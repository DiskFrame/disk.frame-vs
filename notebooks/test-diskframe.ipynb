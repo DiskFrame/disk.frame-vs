{
 "cells": [
  {
   "cell_type": "code",
   "execution_count": 1,
   "metadata": {},
   "outputs": [
    {
     "name": "stderr",
     "output_type": "stream",
     "text": [
      "Loading required package: dplyr\n",
      "\n",
      "\n",
      "Attaching package: ‘dplyr’\n",
      "\n",
      "\n",
      "The following objects are masked from ‘package:stats’:\n",
      "\n",
      "    filter, lag\n",
      "\n",
      "\n",
      "The following objects are masked from ‘package:base’:\n",
      "\n",
      "    intersect, setdiff, setequal, union\n",
      "\n",
      "\n",
      "Loading required package: purrr\n",
      "\n",
      "Registered S3 method overwritten by 'pryr':\n",
      "  method      from\n",
      "  print.bytes Rcpp\n",
      "\n",
      "\u001b[31m\n",
      "## Message from disk.frame:\n",
      "We have 1 workers to use with disk.frame.\n",
      "To change that, use setup_disk.frame(workers = n) or just setup_disk.frame() to use the defaults.\u001b[39m\u001b[32m\n",
      "\n",
      "\n",
      "It is recommended that you run the following immediately to set up disk.frame with multiple workers in order to parallelize your operations:\n",
      "\n",
      "\n",
      "```r\n",
      "# this will set up disk.frame with multiple workers\n",
      "setup_disk.frame()\n",
      "# this will allow unlimited amount of data to be passed from worker to worker\n",
      "options(future.globals.maxSize = Inf)\n",
      "```\n",
      "\n",
      "\n",
      "\u001b[39m\n",
      "\n",
      "\n",
      "Attaching package: ‘disk.frame’\n",
      "\n",
      "\n",
      "The following objects are masked from ‘package:purrr’:\n",
      "\n",
      "    imap, imap_dfr, map, map2\n",
      "\n",
      "\n",
      "The following objects are masked from ‘package:base’:\n",
      "\n",
      "    colnames, ncol, nrow\n",
      "\n",
      "\n"
     ]
    }
   ],
   "source": [
    "library(disk.frame)"
   ]
  },
  {
   "cell_type": "code",
   "execution_count": 2,
   "metadata": {},
   "outputs": [
    {
     "name": "stderr",
     "output_type": "stream",
     "text": [
      "The number of workers available for disk.frame is 6\n",
      "\n"
     ]
    }
   ],
   "source": [
    "setup_disk.frame()"
   ]
  },
  {
   "cell_type": "code",
   "execution_count": 6,
   "metadata": {},
   "outputs": [
    {
     "data": {
      "text/plain": [
       "   user  system elapsed \n",
       " 25.838   1.435   7.742 "
      ]
     },
     "metadata": {},
     "output_type": "display_data"
    }
   ],
   "source": [
    "system.time(a <- csv_to_disk.frame(\"../fm-data/perf/Performance_2000Q1.txt\", header=FALSE))"
   ]
  },
  {
   "cell_type": "code",
   "execution_count": 7,
   "metadata": {},
   "outputs": [
    {
     "data": {
      "text/html": [
       "<table>\n",
       "<caption>A data.table: 6 × 31</caption>\n",
       "<thead>\n",
       "\t<tr><th scope=col>V1</th><th scope=col>V2</th><th scope=col>V3</th><th scope=col>V4</th><th scope=col>V5</th><th scope=col>V6</th><th scope=col>V7</th><th scope=col>V8</th><th scope=col>V9</th><th scope=col>V10</th><th scope=col>⋯</th><th scope=col>V22</th><th scope=col>V23</th><th scope=col>V24</th><th scope=col>V25</th><th scope=col>V26</th><th scope=col>V27</th><th scope=col>V28</th><th scope=col>V29</th><th scope=col>V30</th><th scope=col>V31</th></tr>\n",
       "\t<tr><th scope=col>&lt;int64&gt;</th><th scope=col>&lt;chr&gt;</th><th scope=col>&lt;chr&gt;</th><th scope=col>&lt;dbl&gt;</th><th scope=col>&lt;dbl&gt;</th><th scope=col>&lt;dbl&gt;</th><th scope=col>&lt;dbl&gt;</th><th scope=col>&lt;dbl&gt;</th><th scope=col>&lt;chr&gt;</th><th scope=col>&lt;dbl&gt;</th><th scope=col>⋯</th><th scope=col>&lt;dbl&gt;</th><th scope=col>&lt;dbl&gt;</th><th scope=col>&lt;dbl&gt;</th><th scope=col>&lt;dbl&gt;</th><th scope=col>&lt;dbl&gt;</th><th scope=col>&lt;dbl&gt;</th><th scope=col>&lt;dbl&gt;</th><th scope=col>&lt;chr&gt;</th><th scope=col>&lt;dbl&gt;</th><th scope=col>&lt;chr&gt;</th></tr>\n",
       "</thead>\n",
       "<tbody>\n",
       "\t<tr><td>100007365142</td><td>01/01/2000</td><td>NULL</td><td>8</td><td>      NA</td><td> 0</td><td>360</td><td>359</td><td>01/2030</td><td>0</td><td>⋯</td><td>NA</td><td>NA</td><td>NA</td><td>NA</td><td>NA</td><td>NA</td><td>NA</td><td>NULL</td><td>NA</td><td>NULL</td></tr>\n",
       "\t<tr><td>100007365142</td><td>01/01/2001</td><td>NULL</td><td>8</td><td>74319.00</td><td>12</td><td>348</td><td>347</td><td>01/2030</td><td>0</td><td>⋯</td><td>NA</td><td>NA</td><td>NA</td><td>NA</td><td>NA</td><td>NA</td><td>NA</td><td>NULL</td><td>NA</td><td>NULL</td></tr>\n",
       "\t<tr><td>100007365142</td><td>01/01/2002</td><td>NULL</td><td>8</td><td>73635.48</td><td>24</td><td>336</td><td>335</td><td>01/2030</td><td>0</td><td>⋯</td><td>NA</td><td>NA</td><td>NA</td><td>NA</td><td>NA</td><td>NA</td><td>NA</td><td>NULL</td><td>NA</td><td>NULL</td></tr>\n",
       "\t<tr><td>100007365142</td><td>01/01/2003</td><td>NULL</td><td>8</td><td>72795.41</td><td>36</td><td>324</td><td>322</td><td>01/2030</td><td>0</td><td>⋯</td><td>NA</td><td>NA</td><td>NA</td><td>NA</td><td>NA</td><td>NA</td><td>NA</td><td>NULL</td><td>NA</td><td>NULL</td></tr>\n",
       "\t<tr><td>100007365142</td><td>02/01/2000</td><td>NULL</td><td>8</td><td>      NA</td><td> 1</td><td>359</td><td>358</td><td>01/2030</td><td>0</td><td>⋯</td><td>NA</td><td>NA</td><td>NA</td><td>NA</td><td>NA</td><td>NA</td><td>NA</td><td>NULL</td><td>NA</td><td>NULL</td></tr>\n",
       "\t<tr><td>100007365142</td><td>02/01/2001</td><td>NULL</td><td>8</td><td>74264.14</td><td>13</td><td>347</td><td>346</td><td>01/2030</td><td>0</td><td>⋯</td><td>NA</td><td>NA</td><td>NA</td><td>NA</td><td>NA</td><td>NA</td><td>NA</td><td>NULL</td><td>NA</td><td>NULL</td></tr>\n",
       "</tbody>\n",
       "</table>\n"
      ],
      "text/latex": [
       "A data.table: 6 × 31\n",
       "\\begin{tabular}{lllllllllllllllllllll}\n",
       " V1 & V2 & V3 & V4 & V5 & V6 & V7 & V8 & V9 & V10 & ⋯ & V22 & V23 & V24 & V25 & V26 & V27 & V28 & V29 & V30 & V31\\\\\n",
       " <int64> & <chr> & <chr> & <dbl> & <dbl> & <dbl> & <dbl> & <dbl> & <chr> & <dbl> & ⋯ & <dbl> & <dbl> & <dbl> & <dbl> & <dbl> & <dbl> & <dbl> & <chr> & <dbl> & <chr>\\\\\n",
       "\\hline\n",
       "\t 100007365142 & 01/01/2000 & NULL & 8 &       NA &  0 & 360 & 359 & 01/2030 & 0 & ⋯ & NA & NA & NA & NA & NA & NA & NA & NULL & NA & NULL\\\\\n",
       "\t 100007365142 & 01/01/2001 & NULL & 8 & 74319.00 & 12 & 348 & 347 & 01/2030 & 0 & ⋯ & NA & NA & NA & NA & NA & NA & NA & NULL & NA & NULL\\\\\n",
       "\t 100007365142 & 01/01/2002 & NULL & 8 & 73635.48 & 24 & 336 & 335 & 01/2030 & 0 & ⋯ & NA & NA & NA & NA & NA & NA & NA & NULL & NA & NULL\\\\\n",
       "\t 100007365142 & 01/01/2003 & NULL & 8 & 72795.41 & 36 & 324 & 322 & 01/2030 & 0 & ⋯ & NA & NA & NA & NA & NA & NA & NA & NULL & NA & NULL\\\\\n",
       "\t 100007365142 & 02/01/2000 & NULL & 8 &       NA &  1 & 359 & 358 & 01/2030 & 0 & ⋯ & NA & NA & NA & NA & NA & NA & NA & NULL & NA & NULL\\\\\n",
       "\t 100007365142 & 02/01/2001 & NULL & 8 & 74264.14 & 13 & 347 & 346 & 01/2030 & 0 & ⋯ & NA & NA & NA & NA & NA & NA & NA & NULL & NA & NULL\\\\\n",
       "\\end{tabular}\n"
      ],
      "text/markdown": [
       "\n",
       "A data.table: 6 × 31\n",
       "\n",
       "| V1 &lt;int64&gt; | V2 &lt;chr&gt; | V3 &lt;chr&gt; | V4 &lt;dbl&gt; | V5 &lt;dbl&gt; | V6 &lt;dbl&gt; | V7 &lt;dbl&gt; | V8 &lt;dbl&gt; | V9 &lt;chr&gt; | V10 &lt;dbl&gt; | ⋯ ⋯ | V22 &lt;dbl&gt; | V23 &lt;dbl&gt; | V24 &lt;dbl&gt; | V25 &lt;dbl&gt; | V26 &lt;dbl&gt; | V27 &lt;dbl&gt; | V28 &lt;dbl&gt; | V29 &lt;chr&gt; | V30 &lt;dbl&gt; | V31 &lt;chr&gt; |\n",
       "|---|---|---|---|---|---|---|---|---|---|---|---|---|---|---|---|---|---|---|---|---|\n",
       "| 100007365142 | 01/01/2000 | NULL | 8 |       NA |  0 | 360 | 359 | 01/2030 | 0 | ⋯ | NA | NA | NA | NA | NA | NA | NA | NULL | NA | NULL |\n",
       "| 100007365142 | 01/01/2001 | NULL | 8 | 74319.00 | 12 | 348 | 347 | 01/2030 | 0 | ⋯ | NA | NA | NA | NA | NA | NA | NA | NULL | NA | NULL |\n",
       "| 100007365142 | 01/01/2002 | NULL | 8 | 73635.48 | 24 | 336 | 335 | 01/2030 | 0 | ⋯ | NA | NA | NA | NA | NA | NA | NA | NULL | NA | NULL |\n",
       "| 100007365142 | 01/01/2003 | NULL | 8 | 72795.41 | 36 | 324 | 322 | 01/2030 | 0 | ⋯ | NA | NA | NA | NA | NA | NA | NA | NULL | NA | NULL |\n",
       "| 100007365142 | 02/01/2000 | NULL | 8 |       NA |  1 | 359 | 358 | 01/2030 | 0 | ⋯ | NA | NA | NA | NA | NA | NA | NA | NULL | NA | NULL |\n",
       "| 100007365142 | 02/01/2001 | NULL | 8 | 74264.14 | 13 | 347 | 346 | 01/2030 | 0 | ⋯ | NA | NA | NA | NA | NA | NA | NA | NULL | NA | NULL |\n",
       "\n"
      ],
      "text/plain": [
       "  V1           V2         V3   V4 V5       V6 V7  V8  V9      V10 ⋯ V22 V23 V24\n",
       "1 100007365142 01/01/2000 NULL 8        NA  0 360 359 01/2030 0   ⋯ NA  NA  NA \n",
       "2 100007365142 01/01/2001 NULL 8  74319.00 12 348 347 01/2030 0   ⋯ NA  NA  NA \n",
       "3 100007365142 01/01/2002 NULL 8  73635.48 24 336 335 01/2030 0   ⋯ NA  NA  NA \n",
       "4 100007365142 01/01/2003 NULL 8  72795.41 36 324 322 01/2030 0   ⋯ NA  NA  NA \n",
       "5 100007365142 02/01/2000 NULL 8        NA  1 359 358 01/2030 0   ⋯ NA  NA  NA \n",
       "6 100007365142 02/01/2001 NULL 8  74264.14 13 347 346 01/2030 0   ⋯ NA  NA  NA \n",
       "  V25 V26 V27 V28 V29  V30 V31 \n",
       "1 NA  NA  NA  NA  NULL NA  NULL\n",
       "2 NA  NA  NA  NA  NULL NA  NULL\n",
       "3 NA  NA  NA  NA  NULL NA  NULL\n",
       "4 NA  NA  NA  NA  NULL NA  NULL\n",
       "5 NA  NA  NA  NA  NULL NA  NULL\n",
       "6 NA  NA  NA  NA  NULL NA  NULL"
      ]
     },
     "metadata": {},
     "output_type": "display_data"
    }
   ],
   "source": [
    "head(a)"
   ]
  },
  {
   "cell_type": "code",
   "execution_count": 16,
   "metadata": {},
   "outputs": [
    {
     "data": {
      "text/plain": [
       "   user  system elapsed \n",
       "  0.274   0.004   1.650 "
      ]
     },
     "metadata": {},
     "output_type": "display_data"
    },
    {
     "data": {
      "text/html": [
       "<table>\n",
       "<caption>A data.frame: 1 × 1</caption>\n",
       "<thead>\n",
       "\t<tr><th scope=col>mean(V6)</th></tr>\n",
       "\t<tr><th scope=col>&lt;dbl&gt;</th></tr>\n",
       "</thead>\n",
       "<tbody>\n",
       "\t<tr><td>33.96503</td></tr>\n",
       "</tbody>\n",
       "</table>\n"
      ],
      "text/latex": [
       "A data.frame: 1 × 1\n",
       "\\begin{tabular}{l}\n",
       " mean(V6)\\\\\n",
       " <dbl>\\\\\n",
       "\\hline\n",
       "\t 33.96503\\\\\n",
       "\\end{tabular}\n"
      ],
      "text/markdown": [
       "\n",
       "A data.frame: 1 × 1\n",
       "\n",
       "| mean(V6) &lt;dbl&gt; |\n",
       "|---|\n",
       "| 33.96503 |\n",
       "\n"
      ],
      "text/plain": [
       "  mean(V6)\n",
       "1 33.96503"
      ]
     },
     "metadata": {},
     "output_type": "display_data"
    }
   ],
   "source": [
    "system.time(b <- a %>%\n",
    "  srckeep(\"V6\") %>%\n",
    "  summarise(mean(V6)) %>%\n",
    "  collect)\n",
    "\n",
    "b"
   ]
  },
  {
   "cell_type": "code",
   "execution_count": 23,
   "metadata": {},
   "outputs": [
    {
     "data": {
      "text/html": [
       "<style>\n",
       ".list-inline {list-style: none; margin:0; padding: 0}\n",
       ".list-inline>li {display: inline-block}\n",
       ".list-inline>li:not(:last-child)::after {content: \"\\00b7\"; padding: 0 .5ex}\n",
       "</style>\n",
       "<ol class=list-inline><li>0.927277706563473</li><li>0.834181684069335</li><li>0.885810985229909</li><li>1.0335631230846</li></ol>\n"
      ],
      "text/latex": [
       "\\begin{enumerate*}\n",
       "\\item 0.927277706563473\n",
       "\\item 0.834181684069335\n",
       "\\item 0.885810985229909\n",
       "\\item 1.0335631230846\n",
       "\\end{enumerate*}\n"
      ],
      "text/markdown": [
       "1. 0.927277706563473\n",
       "2. 0.834181684069335\n",
       "3. 0.885810985229909\n",
       "4. 1.0335631230846\n",
       "\n",
       "\n"
      ],
      "text/plain": [
       "[1] 0.9272777 0.8341817 0.8858110 1.0335631"
      ]
     },
     "metadata": {},
     "output_type": "display_data"
    }
   ],
   "source": [
    "files = dir(\"../fm-data/perf\", full.names=T)\n",
    "file.size(files)/1024^3"
   ]
  },
  {
   "cell_type": "code",
   "execution_count": 24,
   "metadata": {},
   "outputs": [
    {
     "name": "stderr",
     "output_type": "stream",
     "text": [
      "csv_to_disk.frame: Reading multiple input files.\n",
      "\n",
      "Please use `colClasses = `  to set column types to minimize the chance of a failed read\n",
      "\n",
      "=================================================\n",
      "\n",
      "\n",
      "\n",
      " ----------------------------------------------------- \n",
      "\n",
      "-- Converting CSVs to disk.frame -- Stage 1 of 2:\n",
      "\n",
      "\n",
      "\n",
      "Converting 4 CSVs to 6 disk.frames each consisting of 6 chunks\n",
      "\n",
      "\n",
      "\n"
     ]
    },
    {
     "name": "stdout",
     "output_type": "stream",
     "text": [
      " Progress: ──────────────────────────────────────────────────────────────── 100%\n",
      "\n"
     ]
    },
    {
     "name": "stderr",
     "output_type": "stream",
     "text": [
      "-- Converting CSVs to disk.frame -- Stage 1 or 2 took: 19.7s elapsed (0.248s cpu)\n",
      "\n",
      " ----------------------------------------------------- \n",
      "\n",
      " \n",
      "\n",
      " ----------------------------------------------------- \n",
      "\n",
      "-- Converting CSVs to disk.frame -- Stage 2 of 2:\n",
      "\n",
      "\n",
      "\n",
      "Row-binding the 6 disk.frames together to form one large disk.frame:\n",
      "\n",
      "Creating the disk.frame at /tmp/Rtmpk244dn/file153443d37d1.df\n",
      "\n",
      "\n",
      "\n",
      "Appending disk.frames: \n",
      "\n"
     ]
    },
    {
     "name": "stdout",
     "output_type": "stream",
     "text": [
      " Progress: ──────────────────────────────────────────────────────────────── 100%\n",
      "\n"
     ]
    },
    {
     "name": "stderr",
     "output_type": "stream",
     "text": [
      "Stage 2 of 2 took: 14.1s elapsed (0.405s cpu)\n",
      "\n",
      " ----------------------------------------------------- \n",
      "\n",
      "Stage 1 & 2 in total took: 33.8s elapsed (0.685s cpu)\n",
      "\n"
     ]
    },
    {
     "data": {
      "text/plain": [
       "   user  system elapsed \n",
       "  0.693   0.051  33.840 "
      ]
     },
     "metadata": {},
     "output_type": "display_data"
    }
   ],
   "source": [
    "system.time(a <- csv_to_disk.frame(files, header=FALSE))"
   ]
  },
  {
   "cell_type": "code",
   "execution_count": 25,
   "metadata": {},
   "outputs": [
    {
     "data": {
      "text/html": [
       "36190382"
      ],
      "text/latex": [
       "36190382"
      ],
      "text/markdown": [
       "36190382"
      ],
      "text/plain": [
       "[1] 36190382"
      ]
     },
     "metadata": {},
     "output_type": "display_data"
    }
   ],
   "source": [
    "nrow(a)"
   ]
  },
  {
   "cell_type": "code",
   "execution_count": 27,
   "metadata": {},
   "outputs": [],
   "source": [
    "library(fst)"
   ]
  },
  {
   "cell_type": "code",
   "execution_count": 28,
   "metadata": {},
   "outputs": [
    {
     "ename": "ERROR",
     "evalue": "Error in file.info(..., extra_cols = FALSE): invalid filename argument\n",
     "output_type": "error",
     "traceback": [
      "Error in file.info(..., extra_cols = FALSE): invalid filename argument\nTraceback:\n",
      "1. file.size(a)",
      "2. file.info(..., extra_cols = FALSE)"
     ]
    }
   ],
   "source": [
    "file.size(a)"
   ]
  },
  {
   "cell_type": "code",
   "execution_count": 35,
   "metadata": {},
   "outputs": [
    {
     "data": {
      "text/html": [
       "1.27591218147427"
      ],
      "text/latex": [
       "1.27591218147427"
      ],
      "text/markdown": [
       "1.27591218147427"
      ],
      "text/plain": [
       "[1] 1.275912"
      ]
     },
     "metadata": {},
     "output_type": "display_data"
    }
   ],
   "source": [
    "sum(file.size(dir(attr(a, \"path\"), full.names=T)))/1024^3"
   ]
  },
  {
   "cell_type": "code",
   "execution_count": 37,
   "metadata": {},
   "outputs": [
    {
     "data": {
      "text/html": [
       "<table>\n",
       "<caption>A data.table: 6 × 31</caption>\n",
       "<thead>\n",
       "\t<tr><th scope=col>V1</th><th scope=col>V2</th><th scope=col>V3</th><th scope=col>V4</th><th scope=col>V5</th><th scope=col>V6</th><th scope=col>V7</th><th scope=col>V8</th><th scope=col>V9</th><th scope=col>V10</th><th scope=col>⋯</th><th scope=col>V22</th><th scope=col>V23</th><th scope=col>V24</th><th scope=col>V25</th><th scope=col>V26</th><th scope=col>V27</th><th scope=col>V28</th><th scope=col>V29</th><th scope=col>V30</th><th scope=col>V31</th></tr>\n",
       "\t<tr><th scope=col>&lt;int64&gt;</th><th scope=col>&lt;chr&gt;</th><th scope=col>&lt;chr&gt;</th><th scope=col>&lt;dbl&gt;</th><th scope=col>&lt;dbl&gt;</th><th scope=col>&lt;dbl&gt;</th><th scope=col>&lt;dbl&gt;</th><th scope=col>&lt;dbl&gt;</th><th scope=col>&lt;chr&gt;</th><th scope=col>&lt;dbl&gt;</th><th scope=col>⋯</th><th scope=col>&lt;dbl&gt;</th><th scope=col>&lt;dbl&gt;</th><th scope=col>&lt;dbl&gt;</th><th scope=col>&lt;dbl&gt;</th><th scope=col>&lt;dbl&gt;</th><th scope=col>&lt;dbl&gt;</th><th scope=col>&lt;dbl&gt;</th><th scope=col>&lt;chr&gt;</th><th scope=col>&lt;dbl&gt;</th><th scope=col>&lt;chr&gt;</th></tr>\n",
       "</thead>\n",
       "<tbody>\n",
       "\t<tr><td>100007365142</td><td>01/01/2000</td><td>NULL</td><td>8</td><td>      NA</td><td> 0</td><td>360</td><td>359</td><td>01/2030</td><td>0</td><td>⋯</td><td>NA</td><td>NA</td><td>NA</td><td>NA</td><td>NA</td><td>NA</td><td>NA</td><td>NULL</td><td>NA</td><td>NULL</td></tr>\n",
       "\t<tr><td>100007365142</td><td>01/01/2001</td><td>NULL</td><td>8</td><td>74319.00</td><td>12</td><td>348</td><td>347</td><td>01/2030</td><td>0</td><td>⋯</td><td>NA</td><td>NA</td><td>NA</td><td>NA</td><td>NA</td><td>NA</td><td>NA</td><td>NULL</td><td>NA</td><td>NULL</td></tr>\n",
       "\t<tr><td>100007365142</td><td>01/01/2002</td><td>NULL</td><td>8</td><td>73635.48</td><td>24</td><td>336</td><td>335</td><td>01/2030</td><td>0</td><td>⋯</td><td>NA</td><td>NA</td><td>NA</td><td>NA</td><td>NA</td><td>NA</td><td>NA</td><td>NULL</td><td>NA</td><td>NULL</td></tr>\n",
       "\t<tr><td>100007365142</td><td>01/01/2003</td><td>NULL</td><td>8</td><td>72795.41</td><td>36</td><td>324</td><td>322</td><td>01/2030</td><td>0</td><td>⋯</td><td>NA</td><td>NA</td><td>NA</td><td>NA</td><td>NA</td><td>NA</td><td>NA</td><td>NULL</td><td>NA</td><td>NULL</td></tr>\n",
       "\t<tr><td>100007365142</td><td>02/01/2000</td><td>NULL</td><td>8</td><td>      NA</td><td> 1</td><td>359</td><td>358</td><td>01/2030</td><td>0</td><td>⋯</td><td>NA</td><td>NA</td><td>NA</td><td>NA</td><td>NA</td><td>NA</td><td>NA</td><td>NULL</td><td>NA</td><td>NULL</td></tr>\n",
       "\t<tr><td>100007365142</td><td>02/01/2001</td><td>NULL</td><td>8</td><td>74264.14</td><td>13</td><td>347</td><td>346</td><td>01/2030</td><td>0</td><td>⋯</td><td>NA</td><td>NA</td><td>NA</td><td>NA</td><td>NA</td><td>NA</td><td>NA</td><td>NULL</td><td>NA</td><td>NULL</td></tr>\n",
       "</tbody>\n",
       "</table>\n"
      ],
      "text/latex": [
       "A data.table: 6 × 31\n",
       "\\begin{tabular}{lllllllllllllllllllll}\n",
       " V1 & V2 & V3 & V4 & V5 & V6 & V7 & V8 & V9 & V10 & ⋯ & V22 & V23 & V24 & V25 & V26 & V27 & V28 & V29 & V30 & V31\\\\\n",
       " <int64> & <chr> & <chr> & <dbl> & <dbl> & <dbl> & <dbl> & <dbl> & <chr> & <dbl> & ⋯ & <dbl> & <dbl> & <dbl> & <dbl> & <dbl> & <dbl> & <dbl> & <chr> & <dbl> & <chr>\\\\\n",
       "\\hline\n",
       "\t 100007365142 & 01/01/2000 & NULL & 8 &       NA &  0 & 360 & 359 & 01/2030 & 0 & ⋯ & NA & NA & NA & NA & NA & NA & NA & NULL & NA & NULL\\\\\n",
       "\t 100007365142 & 01/01/2001 & NULL & 8 & 74319.00 & 12 & 348 & 347 & 01/2030 & 0 & ⋯ & NA & NA & NA & NA & NA & NA & NA & NULL & NA & NULL\\\\\n",
       "\t 100007365142 & 01/01/2002 & NULL & 8 & 73635.48 & 24 & 336 & 335 & 01/2030 & 0 & ⋯ & NA & NA & NA & NA & NA & NA & NA & NULL & NA & NULL\\\\\n",
       "\t 100007365142 & 01/01/2003 & NULL & 8 & 72795.41 & 36 & 324 & 322 & 01/2030 & 0 & ⋯ & NA & NA & NA & NA & NA & NA & NA & NULL & NA & NULL\\\\\n",
       "\t 100007365142 & 02/01/2000 & NULL & 8 &       NA &  1 & 359 & 358 & 01/2030 & 0 & ⋯ & NA & NA & NA & NA & NA & NA & NA & NULL & NA & NULL\\\\\n",
       "\t 100007365142 & 02/01/2001 & NULL & 8 & 74264.14 & 13 & 347 & 346 & 01/2030 & 0 & ⋯ & NA & NA & NA & NA & NA & NA & NA & NULL & NA & NULL\\\\\n",
       "\\end{tabular}\n"
      ],
      "text/markdown": [
       "\n",
       "A data.table: 6 × 31\n",
       "\n",
       "| V1 &lt;int64&gt; | V2 &lt;chr&gt; | V3 &lt;chr&gt; | V4 &lt;dbl&gt; | V5 &lt;dbl&gt; | V6 &lt;dbl&gt; | V7 &lt;dbl&gt; | V8 &lt;dbl&gt; | V9 &lt;chr&gt; | V10 &lt;dbl&gt; | ⋯ ⋯ | V22 &lt;dbl&gt; | V23 &lt;dbl&gt; | V24 &lt;dbl&gt; | V25 &lt;dbl&gt; | V26 &lt;dbl&gt; | V27 &lt;dbl&gt; | V28 &lt;dbl&gt; | V29 &lt;chr&gt; | V30 &lt;dbl&gt; | V31 &lt;chr&gt; |\n",
       "|---|---|---|---|---|---|---|---|---|---|---|---|---|---|---|---|---|---|---|---|---|\n",
       "| 100007365142 | 01/01/2000 | NULL | 8 |       NA |  0 | 360 | 359 | 01/2030 | 0 | ⋯ | NA | NA | NA | NA | NA | NA | NA | NULL | NA | NULL |\n",
       "| 100007365142 | 01/01/2001 | NULL | 8 | 74319.00 | 12 | 348 | 347 | 01/2030 | 0 | ⋯ | NA | NA | NA | NA | NA | NA | NA | NULL | NA | NULL |\n",
       "| 100007365142 | 01/01/2002 | NULL | 8 | 73635.48 | 24 | 336 | 335 | 01/2030 | 0 | ⋯ | NA | NA | NA | NA | NA | NA | NA | NULL | NA | NULL |\n",
       "| 100007365142 | 01/01/2003 | NULL | 8 | 72795.41 | 36 | 324 | 322 | 01/2030 | 0 | ⋯ | NA | NA | NA | NA | NA | NA | NA | NULL | NA | NULL |\n",
       "| 100007365142 | 02/01/2000 | NULL | 8 |       NA |  1 | 359 | 358 | 01/2030 | 0 | ⋯ | NA | NA | NA | NA | NA | NA | NA | NULL | NA | NULL |\n",
       "| 100007365142 | 02/01/2001 | NULL | 8 | 74264.14 | 13 | 347 | 346 | 01/2030 | 0 | ⋯ | NA | NA | NA | NA | NA | NA | NA | NULL | NA | NULL |\n",
       "\n"
      ],
      "text/plain": [
       "  V1           V2         V3   V4 V5       V6 V7  V8  V9      V10 ⋯ V22 V23 V24\n",
       "1 100007365142 01/01/2000 NULL 8        NA  0 360 359 01/2030 0   ⋯ NA  NA  NA \n",
       "2 100007365142 01/01/2001 NULL 8  74319.00 12 348 347 01/2030 0   ⋯ NA  NA  NA \n",
       "3 100007365142 01/01/2002 NULL 8  73635.48 24 336 335 01/2030 0   ⋯ NA  NA  NA \n",
       "4 100007365142 01/01/2003 NULL 8  72795.41 36 324 322 01/2030 0   ⋯ NA  NA  NA \n",
       "5 100007365142 02/01/2000 NULL 8        NA  1 359 358 01/2030 0   ⋯ NA  NA  NA \n",
       "6 100007365142 02/01/2001 NULL 8  74264.14 13 347 346 01/2030 0   ⋯ NA  NA  NA \n",
       "  V25 V26 V27 V28 V29  V30 V31 \n",
       "1 NA  NA  NA  NA  NULL NA  NULL\n",
       "2 NA  NA  NA  NA  NULL NA  NULL\n",
       "3 NA  NA  NA  NA  NULL NA  NULL\n",
       "4 NA  NA  NA  NA  NULL NA  NULL\n",
       "5 NA  NA  NA  NA  NULL NA  NULL\n",
       "6 NA  NA  NA  NA  NULL NA  NULL"
      ]
     },
     "metadata": {},
     "output_type": "display_data"
    }
   ],
   "source": [
    "head(a)"
   ]
  },
  {
   "cell_type": "code",
   "execution_count": 41,
   "metadata": {},
   "outputs": [
    {
     "data": {
      "text/plain": [
       "   user  system elapsed \n",
       "  5.994   1.781   5.221 "
      ]
     },
     "metadata": {},
     "output_type": "display_data"
    }
   ],
   "source": [
    "system.time(a1 <- a %>%\n",
    "  get_chunk(1) %>%\n",
    "  mutate(as.Date(paste0(\"01\", V1), \"%d%m/%Y\")))"
   ]
  },
  {
   "cell_type": "code",
   "execution_count": 40,
   "metadata": {},
   "outputs": [
    {
     "data": {
      "text/html": [
       "<table>\n",
       "<caption>A data.frame: 6031732 × 32</caption>\n",
       "<thead>\n",
       "\t<tr><th scope=col>V1</th><th scope=col>V2</th><th scope=col>V3</th><th scope=col>V4</th><th scope=col>V5</th><th scope=col>V6</th><th scope=col>V7</th><th scope=col>V8</th><th scope=col>V9</th><th scope=col>V10</th><th scope=col>⋯</th><th scope=col>V23</th><th scope=col>V24</th><th scope=col>V25</th><th scope=col>V26</th><th scope=col>V27</th><th scope=col>V28</th><th scope=col>V29</th><th scope=col>V30</th><th scope=col>V31</th><th scope=col>as.Date(paste0(\"01\", V1), \"%d%m/%Y\")</th></tr>\n",
       "\t<tr><th scope=col>&lt;int64&gt;</th><th scope=col>&lt;chr&gt;</th><th scope=col>&lt;chr&gt;</th><th scope=col>&lt;dbl&gt;</th><th scope=col>&lt;dbl&gt;</th><th scope=col>&lt;dbl&gt;</th><th scope=col>&lt;dbl&gt;</th><th scope=col>&lt;dbl&gt;</th><th scope=col>&lt;chr&gt;</th><th scope=col>&lt;dbl&gt;</th><th scope=col>⋯</th><th scope=col>&lt;dbl&gt;</th><th scope=col>&lt;dbl&gt;</th><th scope=col>&lt;dbl&gt;</th><th scope=col>&lt;dbl&gt;</th><th scope=col>&lt;dbl&gt;</th><th scope=col>&lt;dbl&gt;</th><th scope=col>&lt;chr&gt;</th><th scope=col>&lt;dbl&gt;</th><th scope=col>&lt;chr&gt;</th><th scope=col>&lt;date&gt;</th></tr>\n",
       "</thead>\n",
       "<tbody>\n",
       "\t<tr><td>100007365142</td><td>01/01/2000</td><td>NULL</td><td>8</td><td>      NA</td><td> 0</td><td>360</td><td>359</td><td>01/2030</td><td>0</td><td>⋯</td><td>NA</td><td>NA</td><td>NA</td><td>NA</td><td>NA</td><td>NA</td><td>NULL</td><td>NA</td><td>NULL</td><td>NA</td></tr>\n",
       "\t<tr><td>100007365142</td><td>01/01/2001</td><td>NULL</td><td>8</td><td>74319.00</td><td>12</td><td>348</td><td>347</td><td>01/2030</td><td>0</td><td>⋯</td><td>NA</td><td>NA</td><td>NA</td><td>NA</td><td>NA</td><td>NA</td><td>NULL</td><td>NA</td><td>NULL</td><td>NA</td></tr>\n",
       "\t<tr><td>100007365142</td><td>01/01/2002</td><td>NULL</td><td>8</td><td>73635.48</td><td>24</td><td>336</td><td>335</td><td>01/2030</td><td>0</td><td>⋯</td><td>NA</td><td>NA</td><td>NA</td><td>NA</td><td>NA</td><td>NA</td><td>NULL</td><td>NA</td><td>NULL</td><td>NA</td></tr>\n",
       "\t<tr><td>100007365142</td><td>01/01/2003</td><td>NULL</td><td>8</td><td>72795.41</td><td>36</td><td>324</td><td>322</td><td>01/2030</td><td>0</td><td>⋯</td><td>NA</td><td>NA</td><td>NA</td><td>NA</td><td>NA</td><td>NA</td><td>NULL</td><td>NA</td><td>NULL</td><td>NA</td></tr>\n",
       "\t<tr><td>100007365142</td><td>02/01/2000</td><td>NULL</td><td>8</td><td>      NA</td><td> 1</td><td>359</td><td>358</td><td>01/2030</td><td>0</td><td>⋯</td><td>NA</td><td>NA</td><td>NA</td><td>NA</td><td>NA</td><td>NA</td><td>NULL</td><td>NA</td><td>NULL</td><td>NA</td></tr>\n",
       "\t<tr><td>100007365142</td><td>02/01/2001</td><td>NULL</td><td>8</td><td>74264.14</td><td>13</td><td>347</td><td>346</td><td>01/2030</td><td>0</td><td>⋯</td><td>NA</td><td>NA</td><td>NA</td><td>NA</td><td>NA</td><td>NA</td><td>NULL</td><td>NA</td><td>NULL</td><td>NA</td></tr>\n",
       "\t<tr><td>100007365142</td><td>02/01/2002</td><td>NULL</td><td>8</td><td>73576.06</td><td>25</td><td>335</td><td>334</td><td>01/2030</td><td>0</td><td>⋯</td><td>NA</td><td>NA</td><td>NA</td><td>NA</td><td>NA</td><td>NA</td><td>NULL</td><td>NA</td><td>NULL</td><td>NA</td></tr>\n",
       "\t<tr><td>100007365142</td><td>02/01/2003</td><td>NULL</td><td>8</td><td>72680.39</td><td>37</td><td>323</td><td>320</td><td>01/2030</td><td>0</td><td>⋯</td><td>NA</td><td>NA</td><td>NA</td><td>NA</td><td>NA</td><td>NA</td><td>NULL</td><td>NA</td><td>NULL</td><td>NA</td></tr>\n",
       "\t<tr><td>100007365142</td><td>03/01/2000</td><td>NULL</td><td>8</td><td>      NA</td><td> 2</td><td>358</td><td>357</td><td>01/2030</td><td>0</td><td>⋯</td><td>NA</td><td>NA</td><td>NA</td><td>NA</td><td>NA</td><td>NA</td><td>NULL</td><td>NA</td><td>NULL</td><td>NA</td></tr>\n",
       "\t<tr><td>100007365142</td><td>03/01/2001</td><td>NULL</td><td>8</td><td>74208.91</td><td>14</td><td>346</td><td>345</td><td>01/2030</td><td>0</td><td>⋯</td><td>NA</td><td>NA</td><td>NA</td><td>NA</td><td>NA</td><td>NA</td><td>NULL</td><td>NA</td><td>NULL</td><td>NA</td></tr>\n",
       "\t<tr><td>100007365142</td><td>03/01/2002</td><td>NULL</td><td>8</td><td>73516.25</td><td>26</td><td>334</td><td>333</td><td>01/2030</td><td>0</td><td>⋯</td><td>NA</td><td>NA</td><td>NA</td><td>NA</td><td>NA</td><td>NA</td><td>NULL</td><td>NA</td><td>NULL</td><td>NA</td></tr>\n",
       "\t<tr><td>100007365142</td><td>03/01/2003</td><td>NULL</td><td>8</td><td>72564.61</td><td>38</td><td>322</td><td>318</td><td>01/2030</td><td>0</td><td>⋯</td><td>NA</td><td>NA</td><td>NA</td><td>NA</td><td>NA</td><td>NA</td><td>NULL</td><td>NA</td><td>NULL</td><td>NA</td></tr>\n",
       "\t<tr><td>100007365142</td><td>04/01/2000</td><td>NULL</td><td>8</td><td>      NA</td><td> 3</td><td>357</td><td>356</td><td>01/2030</td><td>0</td><td>⋯</td><td>NA</td><td>NA</td><td>NA</td><td>NA</td><td>NA</td><td>NA</td><td>NULL</td><td>NA</td><td>NULL</td><td>NA</td></tr>\n",
       "\t<tr><td>100007365142</td><td>04/01/2001</td><td>NULL</td><td>8</td><td>74153.32</td><td>15</td><td>345</td><td>344</td><td>01/2030</td><td>0</td><td>⋯</td><td>NA</td><td>NA</td><td>NA</td><td>NA</td><td>NA</td><td>NA</td><td>NULL</td><td>NA</td><td>NULL</td><td>NA</td></tr>\n",
       "\t<tr><td>100007365142</td><td>04/01/2002</td><td>NULL</td><td>8</td><td>73456.04</td><td>27</td><td>333</td><td>332</td><td>01/2030</td><td>0</td><td>⋯</td><td>NA</td><td>NA</td><td>NA</td><td>NA</td><td>NA</td><td>NA</td><td>NULL</td><td>NA</td><td>NULL</td><td>NA</td></tr>\n",
       "\t<tr><td>100007365142</td><td>04/01/2003</td><td>NULL</td><td>8</td><td>72564.61</td><td>39</td><td>321</td><td>  0</td><td>01/2030</td><td>0</td><td>⋯</td><td>NA</td><td>NA</td><td>NA</td><td>NA</td><td>NA</td><td>NA</td><td>N   </td><td>NA</td><td>NULL</td><td>NA</td></tr>\n",
       "\t<tr><td>100007365142</td><td>05/01/2000</td><td>NULL</td><td>8</td><td>      NA</td><td> 4</td><td>356</td><td>355</td><td>01/2030</td><td>0</td><td>⋯</td><td>NA</td><td>NA</td><td>NA</td><td>NA</td><td>NA</td><td>NA</td><td>NULL</td><td>NA</td><td>NULL</td><td>NA</td></tr>\n",
       "\t<tr><td>100007365142</td><td>05/01/2001</td><td>NULL</td><td>8</td><td>74153.32</td><td>16</td><td>344</td><td>344</td><td>01/2030</td><td>0</td><td>⋯</td><td>NA</td><td>NA</td><td>NA</td><td>NA</td><td>NA</td><td>NA</td><td>NULL</td><td>NA</td><td>NULL</td><td>NA</td></tr>\n",
       "\t<tr><td>100007365142</td><td>05/01/2002</td><td>NULL</td><td>8</td><td>73395.43</td><td>28</td><td>332</td><td>331</td><td>01/2030</td><td>0</td><td>⋯</td><td>NA</td><td>NA</td><td>NA</td><td>NA</td><td>NA</td><td>NA</td><td>NULL</td><td>NA</td><td>NULL</td><td>NA</td></tr>\n",
       "\t<tr><td>100007365142</td><td>06/01/2000</td><td>NULL</td><td>8</td><td>      NA</td><td> 5</td><td>355</td><td>355</td><td>01/2030</td><td>0</td><td>⋯</td><td>NA</td><td>NA</td><td>NA</td><td>NA</td><td>NA</td><td>NA</td><td>NULL</td><td>NA</td><td>NULL</td><td>NA</td></tr>\n",
       "\t<tr><td>100007365142</td><td>06/01/2001</td><td>NULL</td><td>8</td><td>74097.36</td><td>17</td><td>343</td><td>343</td><td>01/2030</td><td>0</td><td>⋯</td><td>NA</td><td>NA</td><td>NA</td><td>NA</td><td>NA</td><td>NA</td><td>NULL</td><td>NA</td><td>NULL</td><td>NA</td></tr>\n",
       "\t<tr><td>100007365142</td><td>06/01/2002</td><td>NULL</td><td>8</td><td>73395.43</td><td>29</td><td>331</td><td>331</td><td>01/2030</td><td>0</td><td>⋯</td><td>NA</td><td>NA</td><td>NA</td><td>NA</td><td>NA</td><td>NA</td><td>NULL</td><td>NA</td><td>NULL</td><td>NA</td></tr>\n",
       "\t<tr><td>100007365142</td><td>07/01/2000</td><td>NULL</td><td>8</td><td>74693.00</td><td> 6</td><td>354</td><td>354</td><td>01/2030</td><td>0</td><td>⋯</td><td>NA</td><td>NA</td><td>NA</td><td>NA</td><td>NA</td><td>NA</td><td>NULL</td><td>NA</td><td>NULL</td><td>NA</td></tr>\n",
       "\t<tr><td>100007365142</td><td>07/01/2001</td><td>NULL</td><td>8</td><td>73984.31</td><td>18</td><td>342</td><td>341</td><td>01/2030</td><td>0</td><td>⋯</td><td>NA</td><td>NA</td><td>NA</td><td>NA</td><td>NA</td><td>NA</td><td>NULL</td><td>NA</td><td>NULL</td><td>NA</td></tr>\n",
       "\t<tr><td>100007365142</td><td>07/01/2002</td><td>NULL</td><td>8</td><td>73334.41</td><td>30</td><td>330</td><td>330</td><td>01/2030</td><td>0</td><td>⋯</td><td>NA</td><td>NA</td><td>NA</td><td>NA</td><td>NA</td><td>NA</td><td>NULL</td><td>NA</td><td>NULL</td><td>NA</td></tr>\n",
       "\t<tr><td>100007365142</td><td>08/01/2000</td><td>NULL</td><td>8</td><td>74587.91</td><td> 7</td><td>353</td><td>352</td><td>01/2030</td><td>0</td><td>⋯</td><td>NA</td><td>NA</td><td>NA</td><td>NA</td><td>NA</td><td>NA</td><td>NULL</td><td>NA</td><td>NULL</td><td>NA</td></tr>\n",
       "\t<tr><td>100007365142</td><td>08/01/2001</td><td>NULL</td><td>8</td><td>73926.71</td><td>19</td><td>341</td><td>340</td><td>01/2030</td><td>0</td><td>⋯</td><td>NA</td><td>NA</td><td>NA</td><td>NA</td><td>NA</td><td>NA</td><td>NULL</td><td>NA</td><td>NULL</td><td>NA</td></tr>\n",
       "\t<tr><td>100007365142</td><td>08/01/2002</td><td>NULL</td><td>8</td><td>73272.99</td><td>31</td><td>329</td><td>329</td><td>01/2030</td><td>0</td><td>⋯</td><td>NA</td><td>NA</td><td>NA</td><td>NA</td><td>NA</td><td>NA</td><td>NULL</td><td>NA</td><td>NULL</td><td>NA</td></tr>\n",
       "\t<tr><td>100007365142</td><td>09/01/2000</td><td>NULL</td><td>8</td><td>74534.84</td><td> 8</td><td>352</td><td>351</td><td>01/2030</td><td>0</td><td>⋯</td><td>NA</td><td>NA</td><td>NA</td><td>NA</td><td>NA</td><td>NA</td><td>NULL</td><td>NA</td><td>NULL</td><td>NA</td></tr>\n",
       "\t<tr><td>100007365142</td><td>09/01/2001</td><td>NULL</td><td>8</td><td>73869.23</td><td>20</td><td>340</td><td>339</td><td>01/2030</td><td>0</td><td>⋯</td><td>NA</td><td>NA</td><td>NA</td><td>NA</td><td>NA</td><td>NA</td><td>NULL</td><td>NA</td><td>NULL</td><td>NA</td></tr>\n",
       "\t<tr><td>⋮</td><td>⋮</td><td>⋮</td><td>⋮</td><td>⋮</td><td>⋮</td><td>⋮</td><td>⋮</td><td>⋮</td><td>⋮</td><td>⋱</td><td>⋮</td><td>⋮</td><td>⋮</td><td>⋮</td><td>⋮</td><td>⋮</td><td>⋮</td><td>⋮</td><td>⋮</td><td>⋮</td></tr>\n",
       "\t<tr><td>249989663681</td><td>11/01/2002</td><td>NULL </td><td>7.875</td><td> 28884.88</td><td>24</td><td>156</td><td>156</td><td>11/2015</td><td>35620</td><td>⋯</td><td>NA</td><td>NA</td><td>NA</td><td>NA</td><td>NA</td><td>NA</td><td>NULL</td><td>NA</td><td>NULL</td><td>NA</td></tr>\n",
       "\t<tr><td>249989663681</td><td>11/01/2003</td><td>NULL </td><td>7.875</td><td> 27555.60</td><td>36</td><td>144</td><td>144</td><td>11/2015</td><td>35620</td><td>⋯</td><td>NA</td><td>NA</td><td>NA</td><td>NA</td><td>NA</td><td>NA</td><td>NULL</td><td>NA</td><td>NULL</td><td>NA</td></tr>\n",
       "\t<tr><td>249989663681</td><td>12/01/2000</td><td>NULL </td><td>7.875</td><td>       NA</td><td> 1</td><td>179</td><td>179</td><td>11/2015</td><td>35620</td><td>⋯</td><td>NA</td><td>NA</td><td>NA</td><td>NA</td><td>NA</td><td>NA</td><td>NULL</td><td>NA</td><td>NULL</td><td>NA</td></tr>\n",
       "\t<tr><td>249989663681</td><td>12/01/2001</td><td>OTHER</td><td>7.875</td><td> 29915.65</td><td>13</td><td>167</td><td>166</td><td>11/2015</td><td>35620</td><td>⋯</td><td>NA</td><td>NA</td><td>NA</td><td>NA</td><td>NA</td><td>NA</td><td>NULL</td><td>NA</td><td>NULL</td><td>NA</td></tr>\n",
       "\t<tr><td>249989663681</td><td>12/01/2002</td><td>NULL </td><td>7.875</td><td> 28670.52</td><td>25</td><td>155</td><td>154</td><td>11/2015</td><td>35620</td><td>⋯</td><td>NA</td><td>NA</td><td>NA</td><td>NA</td><td>NA</td><td>NA</td><td>NULL</td><td>NA</td><td>NULL</td><td>NA</td></tr>\n",
       "\t<tr><td>249989663681</td><td>12/01/2003</td><td>NULL </td><td>7.875</td><td> 27440.04</td><td>37</td><td>143</td><td>143</td><td>11/2015</td><td>35620</td><td>⋯</td><td>NA</td><td>NA</td><td>NA</td><td>NA</td><td>NA</td><td>NA</td><td>NULL</td><td>NA</td><td>NULL</td><td>NA</td></tr>\n",
       "\t<tr><td>249992604534</td><td>01/01/2001</td><td>NULL </td><td>7.750</td><td>       NA</td><td> 1</td><td>359</td><td>359</td><td>12/2030</td><td>33460</td><td>⋯</td><td>NA</td><td>NA</td><td>NA</td><td>NA</td><td>NA</td><td>NA</td><td>NULL</td><td>NA</td><td>NULL</td><td>NA</td></tr>\n",
       "\t<tr><td>249992604534</td><td>02/01/2001</td><td>NULL </td><td>7.750</td><td>       NA</td><td> 2</td><td>358</td><td>358</td><td>12/2030</td><td>33460</td><td>⋯</td><td>NA</td><td>NA</td><td>NA</td><td>NA</td><td>NA</td><td>NA</td><td>NULL</td><td>NA</td><td>NULL</td><td>NA</td></tr>\n",
       "\t<tr><td>249992604534</td><td>03/01/2001</td><td>NULL </td><td>7.750</td><td>       NA</td><td> 3</td><td>357</td><td>356</td><td>12/2030</td><td>33460</td><td>⋯</td><td>NA</td><td>NA</td><td>NA</td><td>NA</td><td>NA</td><td>NA</td><td>NULL</td><td>NA</td><td>NULL</td><td>NA</td></tr>\n",
       "\t<tr><td>249992604534</td><td>04/01/2001</td><td>NULL </td><td>7.750</td><td>       NA</td><td> 4</td><td>356</td><td>355</td><td>12/2030</td><td>33460</td><td>⋯</td><td>NA</td><td>NA</td><td>NA</td><td>NA</td><td>NA</td><td>NA</td><td>NULL</td><td>NA</td><td>NULL</td><td>NA</td></tr>\n",
       "\t<tr><td>249992604534</td><td>05/01/2001</td><td>NULL </td><td>7.750</td><td>       NA</td><td> 5</td><td>355</td><td>353</td><td>12/2030</td><td>33460</td><td>⋯</td><td>NA</td><td>NA</td><td>NA</td><td>NA</td><td>NA</td><td>NA</td><td>NULL</td><td>NA</td><td>NULL</td><td>NA</td></tr>\n",
       "\t<tr><td>249992604534</td><td>06/01/2001</td><td>NULL </td><td>7.750</td><td>175014.10</td><td> 6</td><td>354</td><td>353</td><td>12/2030</td><td>33460</td><td>⋯</td><td>NA</td><td>NA</td><td>NA</td><td>NA</td><td>NA</td><td>NA</td><td>NULL</td><td>NA</td><td>NULL</td><td>NA</td></tr>\n",
       "\t<tr><td>249992604534</td><td>07/01/2001</td><td>NULL </td><td>7.750</td><td>174884.23</td><td> 7</td><td>353</td><td>352</td><td>12/2030</td><td>33460</td><td>⋯</td><td>NA</td><td>NA</td><td>NA</td><td>NA</td><td>NA</td><td>NA</td><td>NULL</td><td>NA</td><td>NULL</td><td>NA</td></tr>\n",
       "\t<tr><td>249992604534</td><td>08/01/2001</td><td>NULL </td><td>7.750</td><td>174753.52</td><td> 8</td><td>352</td><td>351</td><td>12/2030</td><td>33460</td><td>⋯</td><td>NA</td><td>NA</td><td>NA</td><td>NA</td><td>NA</td><td>NA</td><td>NULL</td><td>NA</td><td>NULL</td><td>NA</td></tr>\n",
       "\t<tr><td>249992604534</td><td>09/01/2001</td><td>NULL </td><td>7.750</td><td>174753.52</td><td> 9</td><td>351</td><td>  0</td><td>12/2030</td><td>33460</td><td>⋯</td><td>NA</td><td>NA</td><td>NA</td><td>NA</td><td>NA</td><td>NA</td><td>N   </td><td>NA</td><td>NULL</td><td>NA</td></tr>\n",
       "\t<tr><td>249992604534</td><td>12/01/2000</td><td>NULL </td><td>7.750</td><td>       NA</td><td> 0</td><td>360</td><td>360</td><td>12/2030</td><td>33460</td><td>⋯</td><td>NA</td><td>NA</td><td>NA</td><td>NA</td><td>NA</td><td>NA</td><td>NULL</td><td>NA</td><td>NULL</td><td>NA</td></tr>\n",
       "\t<tr><td>249995379351</td><td>01/01/2001</td><td>NULL </td><td>7.875</td><td>       NA</td><td> 2</td><td>358</td><td>358</td><td>11/2030</td><td>35840</td><td>⋯</td><td>NA</td><td>NA</td><td>NA</td><td>NA</td><td>NA</td><td>NA</td><td>NULL</td><td>NA</td><td>NULL</td><td>NA</td></tr>\n",
       "\t<tr><td>249995379351</td><td>01/01/2002</td><td>NULL </td><td>7.875</td><td>137205.04</td><td>14</td><td>346</td><td>346</td><td>11/2030</td><td>35840</td><td>⋯</td><td>NA</td><td>NA</td><td>NA</td><td>NA</td><td>NA</td><td>NA</td><td>NULL</td><td>NA</td><td>NULL</td><td>NA</td></tr>\n",
       "\t<tr><td>249995379351</td><td>01/01/2003</td><td>NULL </td><td>7.875</td><td>135904.25</td><td>26</td><td>334</td><td>334</td><td>11/2030</td><td>35840</td><td>⋯</td><td>NA</td><td>NA</td><td>NA</td><td>NA</td><td>NA</td><td>NA</td><td>NULL</td><td>NA</td><td>NULL</td><td>NA</td></tr>\n",
       "\t<tr><td>249995379351</td><td>01/01/2004</td><td>NULL </td><td>7.875</td><td>134166.02</td><td>38</td><td>322</td><td>320</td><td>11/2030</td><td>35840</td><td>⋯</td><td>NA</td><td>NA</td><td>NA</td><td>NA</td><td>NA</td><td>NA</td><td>NULL</td><td>NA</td><td>NULL</td><td>NA</td></tr>\n",
       "\t<tr><td>249995379351</td><td>02/01/2001</td><td>NULL </td><td>7.875</td><td>       NA</td><td> 3</td><td>357</td><td>357</td><td>11/2030</td><td>35840</td><td>⋯</td><td>NA</td><td>NA</td><td>NA</td><td>NA</td><td>NA</td><td>NA</td><td>NULL</td><td>NA</td><td>NULL</td><td>NA</td></tr>\n",
       "\t<tr><td>249995379351</td><td>02/01/2002</td><td>NULL </td><td>7.875</td><td>137100.50</td><td>15</td><td>345</td><td>345</td><td>11/2030</td><td>35840</td><td>⋯</td><td>NA</td><td>NA</td><td>NA</td><td>NA</td><td>NA</td><td>NA</td><td>NULL</td><td>NA</td><td>NULL</td><td>NA</td></tr>\n",
       "\t<tr><td>249995379351</td><td>02/01/2003</td><td>NULL </td><td>7.875</td><td>135791.17</td><td>27</td><td>333</td><td>333</td><td>11/2030</td><td>35840</td><td>⋯</td><td>NA</td><td>NA</td><td>NA</td><td>NA</td><td>NA</td><td>NA</td><td>NULL</td><td>NA</td><td>NULL</td><td>NA</td></tr>\n",
       "\t<tr><td>249995379351</td><td>02/01/2004</td><td>NULL </td><td>7.875</td><td>134166.02</td><td>39</td><td>321</td><td>  0</td><td>11/2030</td><td>35840</td><td>⋯</td><td>NA</td><td>NA</td><td>NA</td><td>NA</td><td>NA</td><td>NA</td><td>N   </td><td>NA</td><td>NULL</td><td>NA</td></tr>\n",
       "\t<tr><td>249995379351</td><td>03/01/2001</td><td>NULL </td><td>7.875</td><td>       NA</td><td> 4</td><td>356</td><td>356</td><td>11/2030</td><td>35840</td><td>⋯</td><td>NA</td><td>NA</td><td>NA</td><td>NA</td><td>NA</td><td>NA</td><td>NULL</td><td>NA</td><td>NULL</td><td>NA</td></tr>\n",
       "\t<tr><td>249995379351</td><td>03/01/2002</td><td>NULL </td><td>7.875</td><td>136995.27</td><td>16</td><td>344</td><td>344</td><td>11/2030</td><td>35840</td><td>⋯</td><td>NA</td><td>NA</td><td>NA</td><td>NA</td><td>NA</td><td>NA</td><td>NULL</td><td>NA</td><td>NULL</td><td>NA</td></tr>\n",
       "\t<tr><td>249995379351</td><td>03/01/2003</td><td>NULL </td><td>7.875</td><td>135677.35</td><td>28</td><td>332</td><td>332</td><td>11/2030</td><td>35840</td><td>⋯</td><td>NA</td><td>NA</td><td>NA</td><td>NA</td><td>NA</td><td>NA</td><td>NULL</td><td>NA</td><td>NULL</td><td>NA</td></tr>\n",
       "\t<tr><td>249995379351</td><td>04/01/2001</td><td>NULL </td><td>7.875</td><td>       NA</td><td> 5</td><td>355</td><td>355</td><td>11/2030</td><td>35840</td><td>⋯</td><td>NA</td><td>NA</td><td>NA</td><td>NA</td><td>NA</td><td>NA</td><td>NULL</td><td>NA</td><td>NULL</td><td>NA</td></tr>\n",
       "\t<tr><td>249995379351</td><td>04/01/2002</td><td>NULL </td><td>7.875</td><td>136889.35</td><td>17</td><td>343</td><td>343</td><td>11/2030</td><td>35840</td><td>⋯</td><td>NA</td><td>NA</td><td>NA</td><td>NA</td><td>NA</td><td>NA</td><td>NULL</td><td>NA</td><td>NULL</td><td>NA</td></tr>\n",
       "\t<tr><td>249995379351</td><td>04/01/2003</td><td>NULL </td><td>7.875</td><td>135562.78</td><td>29</td><td>331</td><td>331</td><td>11/2030</td><td>35840</td><td>⋯</td><td>NA</td><td>NA</td><td>NA</td><td>NA</td><td>NA</td><td>NA</td><td>NULL</td><td>NA</td><td>NULL</td><td>NA</td></tr>\n",
       "</tbody>\n",
       "</table>\n"
      ],
      "text/latex": [
       "A data.frame: 6031732 × 32\n",
       "\\begin{tabular}{lllllllllllllllllllll}\n",
       " V1 & V2 & V3 & V4 & V5 & V6 & V7 & V8 & V9 & V10 & ⋯ & V23 & V24 & V25 & V26 & V27 & V28 & V29 & V30 & V31 & as.Date(paste0(\"01\", V1), \"\\%d\\%m/\\%Y\")\\\\\n",
       " <int64> & <chr> & <chr> & <dbl> & <dbl> & <dbl> & <dbl> & <dbl> & <chr> & <dbl> & ⋯ & <dbl> & <dbl> & <dbl> & <dbl> & <dbl> & <dbl> & <chr> & <dbl> & <chr> & <date>\\\\\n",
       "\\hline\n",
       "\t 100007365142 & 01/01/2000 & NULL & 8 &       NA &  0 & 360 & 359 & 01/2030 & 0 & ⋯ & NA & NA & NA & NA & NA & NA & NULL & NA & NULL & NA\\\\\n",
       "\t 100007365142 & 01/01/2001 & NULL & 8 & 74319.00 & 12 & 348 & 347 & 01/2030 & 0 & ⋯ & NA & NA & NA & NA & NA & NA & NULL & NA & NULL & NA\\\\\n",
       "\t 100007365142 & 01/01/2002 & NULL & 8 & 73635.48 & 24 & 336 & 335 & 01/2030 & 0 & ⋯ & NA & NA & NA & NA & NA & NA & NULL & NA & NULL & NA\\\\\n",
       "\t 100007365142 & 01/01/2003 & NULL & 8 & 72795.41 & 36 & 324 & 322 & 01/2030 & 0 & ⋯ & NA & NA & NA & NA & NA & NA & NULL & NA & NULL & NA\\\\\n",
       "\t 100007365142 & 02/01/2000 & NULL & 8 &       NA &  1 & 359 & 358 & 01/2030 & 0 & ⋯ & NA & NA & NA & NA & NA & NA & NULL & NA & NULL & NA\\\\\n",
       "\t 100007365142 & 02/01/2001 & NULL & 8 & 74264.14 & 13 & 347 & 346 & 01/2030 & 0 & ⋯ & NA & NA & NA & NA & NA & NA & NULL & NA & NULL & NA\\\\\n",
       "\t 100007365142 & 02/01/2002 & NULL & 8 & 73576.06 & 25 & 335 & 334 & 01/2030 & 0 & ⋯ & NA & NA & NA & NA & NA & NA & NULL & NA & NULL & NA\\\\\n",
       "\t 100007365142 & 02/01/2003 & NULL & 8 & 72680.39 & 37 & 323 & 320 & 01/2030 & 0 & ⋯ & NA & NA & NA & NA & NA & NA & NULL & NA & NULL & NA\\\\\n",
       "\t 100007365142 & 03/01/2000 & NULL & 8 &       NA &  2 & 358 & 357 & 01/2030 & 0 & ⋯ & NA & NA & NA & NA & NA & NA & NULL & NA & NULL & NA\\\\\n",
       "\t 100007365142 & 03/01/2001 & NULL & 8 & 74208.91 & 14 & 346 & 345 & 01/2030 & 0 & ⋯ & NA & NA & NA & NA & NA & NA & NULL & NA & NULL & NA\\\\\n",
       "\t 100007365142 & 03/01/2002 & NULL & 8 & 73516.25 & 26 & 334 & 333 & 01/2030 & 0 & ⋯ & NA & NA & NA & NA & NA & NA & NULL & NA & NULL & NA\\\\\n",
       "\t 100007365142 & 03/01/2003 & NULL & 8 & 72564.61 & 38 & 322 & 318 & 01/2030 & 0 & ⋯ & NA & NA & NA & NA & NA & NA & NULL & NA & NULL & NA\\\\\n",
       "\t 100007365142 & 04/01/2000 & NULL & 8 &       NA &  3 & 357 & 356 & 01/2030 & 0 & ⋯ & NA & NA & NA & NA & NA & NA & NULL & NA & NULL & NA\\\\\n",
       "\t 100007365142 & 04/01/2001 & NULL & 8 & 74153.32 & 15 & 345 & 344 & 01/2030 & 0 & ⋯ & NA & NA & NA & NA & NA & NA & NULL & NA & NULL & NA\\\\\n",
       "\t 100007365142 & 04/01/2002 & NULL & 8 & 73456.04 & 27 & 333 & 332 & 01/2030 & 0 & ⋯ & NA & NA & NA & NA & NA & NA & NULL & NA & NULL & NA\\\\\n",
       "\t 100007365142 & 04/01/2003 & NULL & 8 & 72564.61 & 39 & 321 &   0 & 01/2030 & 0 & ⋯ & NA & NA & NA & NA & NA & NA & N    & NA & NULL & NA\\\\\n",
       "\t 100007365142 & 05/01/2000 & NULL & 8 &       NA &  4 & 356 & 355 & 01/2030 & 0 & ⋯ & NA & NA & NA & NA & NA & NA & NULL & NA & NULL & NA\\\\\n",
       "\t 100007365142 & 05/01/2001 & NULL & 8 & 74153.32 & 16 & 344 & 344 & 01/2030 & 0 & ⋯ & NA & NA & NA & NA & NA & NA & NULL & NA & NULL & NA\\\\\n",
       "\t 100007365142 & 05/01/2002 & NULL & 8 & 73395.43 & 28 & 332 & 331 & 01/2030 & 0 & ⋯ & NA & NA & NA & NA & NA & NA & NULL & NA & NULL & NA\\\\\n",
       "\t 100007365142 & 06/01/2000 & NULL & 8 &       NA &  5 & 355 & 355 & 01/2030 & 0 & ⋯ & NA & NA & NA & NA & NA & NA & NULL & NA & NULL & NA\\\\\n",
       "\t 100007365142 & 06/01/2001 & NULL & 8 & 74097.36 & 17 & 343 & 343 & 01/2030 & 0 & ⋯ & NA & NA & NA & NA & NA & NA & NULL & NA & NULL & NA\\\\\n",
       "\t 100007365142 & 06/01/2002 & NULL & 8 & 73395.43 & 29 & 331 & 331 & 01/2030 & 0 & ⋯ & NA & NA & NA & NA & NA & NA & NULL & NA & NULL & NA\\\\\n",
       "\t 100007365142 & 07/01/2000 & NULL & 8 & 74693.00 &  6 & 354 & 354 & 01/2030 & 0 & ⋯ & NA & NA & NA & NA & NA & NA & NULL & NA & NULL & NA\\\\\n",
       "\t 100007365142 & 07/01/2001 & NULL & 8 & 73984.31 & 18 & 342 & 341 & 01/2030 & 0 & ⋯ & NA & NA & NA & NA & NA & NA & NULL & NA & NULL & NA\\\\\n",
       "\t 100007365142 & 07/01/2002 & NULL & 8 & 73334.41 & 30 & 330 & 330 & 01/2030 & 0 & ⋯ & NA & NA & NA & NA & NA & NA & NULL & NA & NULL & NA\\\\\n",
       "\t 100007365142 & 08/01/2000 & NULL & 8 & 74587.91 &  7 & 353 & 352 & 01/2030 & 0 & ⋯ & NA & NA & NA & NA & NA & NA & NULL & NA & NULL & NA\\\\\n",
       "\t 100007365142 & 08/01/2001 & NULL & 8 & 73926.71 & 19 & 341 & 340 & 01/2030 & 0 & ⋯ & NA & NA & NA & NA & NA & NA & NULL & NA & NULL & NA\\\\\n",
       "\t 100007365142 & 08/01/2002 & NULL & 8 & 73272.99 & 31 & 329 & 329 & 01/2030 & 0 & ⋯ & NA & NA & NA & NA & NA & NA & NULL & NA & NULL & NA\\\\\n",
       "\t 100007365142 & 09/01/2000 & NULL & 8 & 74534.84 &  8 & 352 & 351 & 01/2030 & 0 & ⋯ & NA & NA & NA & NA & NA & NA & NULL & NA & NULL & NA\\\\\n",
       "\t 100007365142 & 09/01/2001 & NULL & 8 & 73869.23 & 20 & 340 & 339 & 01/2030 & 0 & ⋯ & NA & NA & NA & NA & NA & NA & NULL & NA & NULL & NA\\\\\n",
       "\t ⋮ & ⋮ & ⋮ & ⋮ & ⋮ & ⋮ & ⋮ & ⋮ & ⋮ & ⋮ & ⋱ & ⋮ & ⋮ & ⋮ & ⋮ & ⋮ & ⋮ & ⋮ & ⋮ & ⋮ & ⋮\\\\\n",
       "\t 249989663681 & 11/01/2002 & NULL  & 7.875 &  28884.88 & 24 & 156 & 156 & 11/2015 & 35620 & ⋯ & NA & NA & NA & NA & NA & NA & NULL & NA & NULL & NA\\\\\n",
       "\t 249989663681 & 11/01/2003 & NULL  & 7.875 &  27555.60 & 36 & 144 & 144 & 11/2015 & 35620 & ⋯ & NA & NA & NA & NA & NA & NA & NULL & NA & NULL & NA\\\\\n",
       "\t 249989663681 & 12/01/2000 & NULL  & 7.875 &        NA &  1 & 179 & 179 & 11/2015 & 35620 & ⋯ & NA & NA & NA & NA & NA & NA & NULL & NA & NULL & NA\\\\\n",
       "\t 249989663681 & 12/01/2001 & OTHER & 7.875 &  29915.65 & 13 & 167 & 166 & 11/2015 & 35620 & ⋯ & NA & NA & NA & NA & NA & NA & NULL & NA & NULL & NA\\\\\n",
       "\t 249989663681 & 12/01/2002 & NULL  & 7.875 &  28670.52 & 25 & 155 & 154 & 11/2015 & 35620 & ⋯ & NA & NA & NA & NA & NA & NA & NULL & NA & NULL & NA\\\\\n",
       "\t 249989663681 & 12/01/2003 & NULL  & 7.875 &  27440.04 & 37 & 143 & 143 & 11/2015 & 35620 & ⋯ & NA & NA & NA & NA & NA & NA & NULL & NA & NULL & NA\\\\\n",
       "\t 249992604534 & 01/01/2001 & NULL  & 7.750 &        NA &  1 & 359 & 359 & 12/2030 & 33460 & ⋯ & NA & NA & NA & NA & NA & NA & NULL & NA & NULL & NA\\\\\n",
       "\t 249992604534 & 02/01/2001 & NULL  & 7.750 &        NA &  2 & 358 & 358 & 12/2030 & 33460 & ⋯ & NA & NA & NA & NA & NA & NA & NULL & NA & NULL & NA\\\\\n",
       "\t 249992604534 & 03/01/2001 & NULL  & 7.750 &        NA &  3 & 357 & 356 & 12/2030 & 33460 & ⋯ & NA & NA & NA & NA & NA & NA & NULL & NA & NULL & NA\\\\\n",
       "\t 249992604534 & 04/01/2001 & NULL  & 7.750 &        NA &  4 & 356 & 355 & 12/2030 & 33460 & ⋯ & NA & NA & NA & NA & NA & NA & NULL & NA & NULL & NA\\\\\n",
       "\t 249992604534 & 05/01/2001 & NULL  & 7.750 &        NA &  5 & 355 & 353 & 12/2030 & 33460 & ⋯ & NA & NA & NA & NA & NA & NA & NULL & NA & NULL & NA\\\\\n",
       "\t 249992604534 & 06/01/2001 & NULL  & 7.750 & 175014.10 &  6 & 354 & 353 & 12/2030 & 33460 & ⋯ & NA & NA & NA & NA & NA & NA & NULL & NA & NULL & NA\\\\\n",
       "\t 249992604534 & 07/01/2001 & NULL  & 7.750 & 174884.23 &  7 & 353 & 352 & 12/2030 & 33460 & ⋯ & NA & NA & NA & NA & NA & NA & NULL & NA & NULL & NA\\\\\n",
       "\t 249992604534 & 08/01/2001 & NULL  & 7.750 & 174753.52 &  8 & 352 & 351 & 12/2030 & 33460 & ⋯ & NA & NA & NA & NA & NA & NA & NULL & NA & NULL & NA\\\\\n",
       "\t 249992604534 & 09/01/2001 & NULL  & 7.750 & 174753.52 &  9 & 351 &   0 & 12/2030 & 33460 & ⋯ & NA & NA & NA & NA & NA & NA & N    & NA & NULL & NA\\\\\n",
       "\t 249992604534 & 12/01/2000 & NULL  & 7.750 &        NA &  0 & 360 & 360 & 12/2030 & 33460 & ⋯ & NA & NA & NA & NA & NA & NA & NULL & NA & NULL & NA\\\\\n",
       "\t 249995379351 & 01/01/2001 & NULL  & 7.875 &        NA &  2 & 358 & 358 & 11/2030 & 35840 & ⋯ & NA & NA & NA & NA & NA & NA & NULL & NA & NULL & NA\\\\\n",
       "\t 249995379351 & 01/01/2002 & NULL  & 7.875 & 137205.04 & 14 & 346 & 346 & 11/2030 & 35840 & ⋯ & NA & NA & NA & NA & NA & NA & NULL & NA & NULL & NA\\\\\n",
       "\t 249995379351 & 01/01/2003 & NULL  & 7.875 & 135904.25 & 26 & 334 & 334 & 11/2030 & 35840 & ⋯ & NA & NA & NA & NA & NA & NA & NULL & NA & NULL & NA\\\\\n",
       "\t 249995379351 & 01/01/2004 & NULL  & 7.875 & 134166.02 & 38 & 322 & 320 & 11/2030 & 35840 & ⋯ & NA & NA & NA & NA & NA & NA & NULL & NA & NULL & NA\\\\\n",
       "\t 249995379351 & 02/01/2001 & NULL  & 7.875 &        NA &  3 & 357 & 357 & 11/2030 & 35840 & ⋯ & NA & NA & NA & NA & NA & NA & NULL & NA & NULL & NA\\\\\n",
       "\t 249995379351 & 02/01/2002 & NULL  & 7.875 & 137100.50 & 15 & 345 & 345 & 11/2030 & 35840 & ⋯ & NA & NA & NA & NA & NA & NA & NULL & NA & NULL & NA\\\\\n",
       "\t 249995379351 & 02/01/2003 & NULL  & 7.875 & 135791.17 & 27 & 333 & 333 & 11/2030 & 35840 & ⋯ & NA & NA & NA & NA & NA & NA & NULL & NA & NULL & NA\\\\\n",
       "\t 249995379351 & 02/01/2004 & NULL  & 7.875 & 134166.02 & 39 & 321 &   0 & 11/2030 & 35840 & ⋯ & NA & NA & NA & NA & NA & NA & N    & NA & NULL & NA\\\\\n",
       "\t 249995379351 & 03/01/2001 & NULL  & 7.875 &        NA &  4 & 356 & 356 & 11/2030 & 35840 & ⋯ & NA & NA & NA & NA & NA & NA & NULL & NA & NULL & NA\\\\\n",
       "\t 249995379351 & 03/01/2002 & NULL  & 7.875 & 136995.27 & 16 & 344 & 344 & 11/2030 & 35840 & ⋯ & NA & NA & NA & NA & NA & NA & NULL & NA & NULL & NA\\\\\n",
       "\t 249995379351 & 03/01/2003 & NULL  & 7.875 & 135677.35 & 28 & 332 & 332 & 11/2030 & 35840 & ⋯ & NA & NA & NA & NA & NA & NA & NULL & NA & NULL & NA\\\\\n",
       "\t 249995379351 & 04/01/2001 & NULL  & 7.875 &        NA &  5 & 355 & 355 & 11/2030 & 35840 & ⋯ & NA & NA & NA & NA & NA & NA & NULL & NA & NULL & NA\\\\\n",
       "\t 249995379351 & 04/01/2002 & NULL  & 7.875 & 136889.35 & 17 & 343 & 343 & 11/2030 & 35840 & ⋯ & NA & NA & NA & NA & NA & NA & NULL & NA & NULL & NA\\\\\n",
       "\t 249995379351 & 04/01/2003 & NULL  & 7.875 & 135562.78 & 29 & 331 & 331 & 11/2030 & 35840 & ⋯ & NA & NA & NA & NA & NA & NA & NULL & NA & NULL & NA\\\\\n",
       "\\end{tabular}\n"
      ],
      "text/markdown": [
       "\n",
       "A data.frame: 6031732 × 32\n",
       "\n",
       "| V1 &lt;int64&gt; | V2 &lt;chr&gt; | V3 &lt;chr&gt; | V4 &lt;dbl&gt; | V5 &lt;dbl&gt; | V6 &lt;dbl&gt; | V7 &lt;dbl&gt; | V8 &lt;dbl&gt; | V9 &lt;chr&gt; | V10 &lt;dbl&gt; | ⋯ ⋯ | V23 &lt;dbl&gt; | V24 &lt;dbl&gt; | V25 &lt;dbl&gt; | V26 &lt;dbl&gt; | V27 &lt;dbl&gt; | V28 &lt;dbl&gt; | V29 &lt;chr&gt; | V30 &lt;dbl&gt; | V31 &lt;chr&gt; | as.Date(paste0(\"01\", V1), \"%d%m/%Y\") &lt;date&gt; |\n",
       "|---|---|---|---|---|---|---|---|---|---|---|---|---|---|---|---|---|---|---|---|---|\n",
       "| 100007365142 | 01/01/2000 | NULL | 8 |       NA |  0 | 360 | 359 | 01/2030 | 0 | ⋯ | NA | NA | NA | NA | NA | NA | NULL | NA | NULL | NA |\n",
       "| 100007365142 | 01/01/2001 | NULL | 8 | 74319.00 | 12 | 348 | 347 | 01/2030 | 0 | ⋯ | NA | NA | NA | NA | NA | NA | NULL | NA | NULL | NA |\n",
       "| 100007365142 | 01/01/2002 | NULL | 8 | 73635.48 | 24 | 336 | 335 | 01/2030 | 0 | ⋯ | NA | NA | NA | NA | NA | NA | NULL | NA | NULL | NA |\n",
       "| 100007365142 | 01/01/2003 | NULL | 8 | 72795.41 | 36 | 324 | 322 | 01/2030 | 0 | ⋯ | NA | NA | NA | NA | NA | NA | NULL | NA | NULL | NA |\n",
       "| 100007365142 | 02/01/2000 | NULL | 8 |       NA |  1 | 359 | 358 | 01/2030 | 0 | ⋯ | NA | NA | NA | NA | NA | NA | NULL | NA | NULL | NA |\n",
       "| 100007365142 | 02/01/2001 | NULL | 8 | 74264.14 | 13 | 347 | 346 | 01/2030 | 0 | ⋯ | NA | NA | NA | NA | NA | NA | NULL | NA | NULL | NA |\n",
       "| 100007365142 | 02/01/2002 | NULL | 8 | 73576.06 | 25 | 335 | 334 | 01/2030 | 0 | ⋯ | NA | NA | NA | NA | NA | NA | NULL | NA | NULL | NA |\n",
       "| 100007365142 | 02/01/2003 | NULL | 8 | 72680.39 | 37 | 323 | 320 | 01/2030 | 0 | ⋯ | NA | NA | NA | NA | NA | NA | NULL | NA | NULL | NA |\n",
       "| 100007365142 | 03/01/2000 | NULL | 8 |       NA |  2 | 358 | 357 | 01/2030 | 0 | ⋯ | NA | NA | NA | NA | NA | NA | NULL | NA | NULL | NA |\n",
       "| 100007365142 | 03/01/2001 | NULL | 8 | 74208.91 | 14 | 346 | 345 | 01/2030 | 0 | ⋯ | NA | NA | NA | NA | NA | NA | NULL | NA | NULL | NA |\n",
       "| 100007365142 | 03/01/2002 | NULL | 8 | 73516.25 | 26 | 334 | 333 | 01/2030 | 0 | ⋯ | NA | NA | NA | NA | NA | NA | NULL | NA | NULL | NA |\n",
       "| 100007365142 | 03/01/2003 | NULL | 8 | 72564.61 | 38 | 322 | 318 | 01/2030 | 0 | ⋯ | NA | NA | NA | NA | NA | NA | NULL | NA | NULL | NA |\n",
       "| 100007365142 | 04/01/2000 | NULL | 8 |       NA |  3 | 357 | 356 | 01/2030 | 0 | ⋯ | NA | NA | NA | NA | NA | NA | NULL | NA | NULL | NA |\n",
       "| 100007365142 | 04/01/2001 | NULL | 8 | 74153.32 | 15 | 345 | 344 | 01/2030 | 0 | ⋯ | NA | NA | NA | NA | NA | NA | NULL | NA | NULL | NA |\n",
       "| 100007365142 | 04/01/2002 | NULL | 8 | 73456.04 | 27 | 333 | 332 | 01/2030 | 0 | ⋯ | NA | NA | NA | NA | NA | NA | NULL | NA | NULL | NA |\n",
       "| 100007365142 | 04/01/2003 | NULL | 8 | 72564.61 | 39 | 321 |   0 | 01/2030 | 0 | ⋯ | NA | NA | NA | NA | NA | NA | N    | NA | NULL | NA |\n",
       "| 100007365142 | 05/01/2000 | NULL | 8 |       NA |  4 | 356 | 355 | 01/2030 | 0 | ⋯ | NA | NA | NA | NA | NA | NA | NULL | NA | NULL | NA |\n",
       "| 100007365142 | 05/01/2001 | NULL | 8 | 74153.32 | 16 | 344 | 344 | 01/2030 | 0 | ⋯ | NA | NA | NA | NA | NA | NA | NULL | NA | NULL | NA |\n",
       "| 100007365142 | 05/01/2002 | NULL | 8 | 73395.43 | 28 | 332 | 331 | 01/2030 | 0 | ⋯ | NA | NA | NA | NA | NA | NA | NULL | NA | NULL | NA |\n",
       "| 100007365142 | 06/01/2000 | NULL | 8 |       NA |  5 | 355 | 355 | 01/2030 | 0 | ⋯ | NA | NA | NA | NA | NA | NA | NULL | NA | NULL | NA |\n",
       "| 100007365142 | 06/01/2001 | NULL | 8 | 74097.36 | 17 | 343 | 343 | 01/2030 | 0 | ⋯ | NA | NA | NA | NA | NA | NA | NULL | NA | NULL | NA |\n",
       "| 100007365142 | 06/01/2002 | NULL | 8 | 73395.43 | 29 | 331 | 331 | 01/2030 | 0 | ⋯ | NA | NA | NA | NA | NA | NA | NULL | NA | NULL | NA |\n",
       "| 100007365142 | 07/01/2000 | NULL | 8 | 74693.00 |  6 | 354 | 354 | 01/2030 | 0 | ⋯ | NA | NA | NA | NA | NA | NA | NULL | NA | NULL | NA |\n",
       "| 100007365142 | 07/01/2001 | NULL | 8 | 73984.31 | 18 | 342 | 341 | 01/2030 | 0 | ⋯ | NA | NA | NA | NA | NA | NA | NULL | NA | NULL | NA |\n",
       "| 100007365142 | 07/01/2002 | NULL | 8 | 73334.41 | 30 | 330 | 330 | 01/2030 | 0 | ⋯ | NA | NA | NA | NA | NA | NA | NULL | NA | NULL | NA |\n",
       "| 100007365142 | 08/01/2000 | NULL | 8 | 74587.91 |  7 | 353 | 352 | 01/2030 | 0 | ⋯ | NA | NA | NA | NA | NA | NA | NULL | NA | NULL | NA |\n",
       "| 100007365142 | 08/01/2001 | NULL | 8 | 73926.71 | 19 | 341 | 340 | 01/2030 | 0 | ⋯ | NA | NA | NA | NA | NA | NA | NULL | NA | NULL | NA |\n",
       "| 100007365142 | 08/01/2002 | NULL | 8 | 73272.99 | 31 | 329 | 329 | 01/2030 | 0 | ⋯ | NA | NA | NA | NA | NA | NA | NULL | NA | NULL | NA |\n",
       "| 100007365142 | 09/01/2000 | NULL | 8 | 74534.84 |  8 | 352 | 351 | 01/2030 | 0 | ⋯ | NA | NA | NA | NA | NA | NA | NULL | NA | NULL | NA |\n",
       "| 100007365142 | 09/01/2001 | NULL | 8 | 73869.23 | 20 | 340 | 339 | 01/2030 | 0 | ⋯ | NA | NA | NA | NA | NA | NA | NULL | NA | NULL | NA |\n",
       "| ⋮ | ⋮ | ⋮ | ⋮ | ⋮ | ⋮ | ⋮ | ⋮ | ⋮ | ⋮ | ⋱ | ⋮ | ⋮ | ⋮ | ⋮ | ⋮ | ⋮ | ⋮ | ⋮ | ⋮ | ⋮ |\n",
       "| 249989663681 | 11/01/2002 | NULL  | 7.875 |  28884.88 | 24 | 156 | 156 | 11/2015 | 35620 | ⋯ | NA | NA | NA | NA | NA | NA | NULL | NA | NULL | NA |\n",
       "| 249989663681 | 11/01/2003 | NULL  | 7.875 |  27555.60 | 36 | 144 | 144 | 11/2015 | 35620 | ⋯ | NA | NA | NA | NA | NA | NA | NULL | NA | NULL | NA |\n",
       "| 249989663681 | 12/01/2000 | NULL  | 7.875 |        NA |  1 | 179 | 179 | 11/2015 | 35620 | ⋯ | NA | NA | NA | NA | NA | NA | NULL | NA | NULL | NA |\n",
       "| 249989663681 | 12/01/2001 | OTHER | 7.875 |  29915.65 | 13 | 167 | 166 | 11/2015 | 35620 | ⋯ | NA | NA | NA | NA | NA | NA | NULL | NA | NULL | NA |\n",
       "| 249989663681 | 12/01/2002 | NULL  | 7.875 |  28670.52 | 25 | 155 | 154 | 11/2015 | 35620 | ⋯ | NA | NA | NA | NA | NA | NA | NULL | NA | NULL | NA |\n",
       "| 249989663681 | 12/01/2003 | NULL  | 7.875 |  27440.04 | 37 | 143 | 143 | 11/2015 | 35620 | ⋯ | NA | NA | NA | NA | NA | NA | NULL | NA | NULL | NA |\n",
       "| 249992604534 | 01/01/2001 | NULL  | 7.750 |        NA |  1 | 359 | 359 | 12/2030 | 33460 | ⋯ | NA | NA | NA | NA | NA | NA | NULL | NA | NULL | NA |\n",
       "| 249992604534 | 02/01/2001 | NULL  | 7.750 |        NA |  2 | 358 | 358 | 12/2030 | 33460 | ⋯ | NA | NA | NA | NA | NA | NA | NULL | NA | NULL | NA |\n",
       "| 249992604534 | 03/01/2001 | NULL  | 7.750 |        NA |  3 | 357 | 356 | 12/2030 | 33460 | ⋯ | NA | NA | NA | NA | NA | NA | NULL | NA | NULL | NA |\n",
       "| 249992604534 | 04/01/2001 | NULL  | 7.750 |        NA |  4 | 356 | 355 | 12/2030 | 33460 | ⋯ | NA | NA | NA | NA | NA | NA | NULL | NA | NULL | NA |\n",
       "| 249992604534 | 05/01/2001 | NULL  | 7.750 |        NA |  5 | 355 | 353 | 12/2030 | 33460 | ⋯ | NA | NA | NA | NA | NA | NA | NULL | NA | NULL | NA |\n",
       "| 249992604534 | 06/01/2001 | NULL  | 7.750 | 175014.10 |  6 | 354 | 353 | 12/2030 | 33460 | ⋯ | NA | NA | NA | NA | NA | NA | NULL | NA | NULL | NA |\n",
       "| 249992604534 | 07/01/2001 | NULL  | 7.750 | 174884.23 |  7 | 353 | 352 | 12/2030 | 33460 | ⋯ | NA | NA | NA | NA | NA | NA | NULL | NA | NULL | NA |\n",
       "| 249992604534 | 08/01/2001 | NULL  | 7.750 | 174753.52 |  8 | 352 | 351 | 12/2030 | 33460 | ⋯ | NA | NA | NA | NA | NA | NA | NULL | NA | NULL | NA |\n",
       "| 249992604534 | 09/01/2001 | NULL  | 7.750 | 174753.52 |  9 | 351 |   0 | 12/2030 | 33460 | ⋯ | NA | NA | NA | NA | NA | NA | N    | NA | NULL | NA |\n",
       "| 249992604534 | 12/01/2000 | NULL  | 7.750 |        NA |  0 | 360 | 360 | 12/2030 | 33460 | ⋯ | NA | NA | NA | NA | NA | NA | NULL | NA | NULL | NA |\n",
       "| 249995379351 | 01/01/2001 | NULL  | 7.875 |        NA |  2 | 358 | 358 | 11/2030 | 35840 | ⋯ | NA | NA | NA | NA | NA | NA | NULL | NA | NULL | NA |\n",
       "| 249995379351 | 01/01/2002 | NULL  | 7.875 | 137205.04 | 14 | 346 | 346 | 11/2030 | 35840 | ⋯ | NA | NA | NA | NA | NA | NA | NULL | NA | NULL | NA |\n",
       "| 249995379351 | 01/01/2003 | NULL  | 7.875 | 135904.25 | 26 | 334 | 334 | 11/2030 | 35840 | ⋯ | NA | NA | NA | NA | NA | NA | NULL | NA | NULL | NA |\n",
       "| 249995379351 | 01/01/2004 | NULL  | 7.875 | 134166.02 | 38 | 322 | 320 | 11/2030 | 35840 | ⋯ | NA | NA | NA | NA | NA | NA | NULL | NA | NULL | NA |\n",
       "| 249995379351 | 02/01/2001 | NULL  | 7.875 |        NA |  3 | 357 | 357 | 11/2030 | 35840 | ⋯ | NA | NA | NA | NA | NA | NA | NULL | NA | NULL | NA |\n",
       "| 249995379351 | 02/01/2002 | NULL  | 7.875 | 137100.50 | 15 | 345 | 345 | 11/2030 | 35840 | ⋯ | NA | NA | NA | NA | NA | NA | NULL | NA | NULL | NA |\n",
       "| 249995379351 | 02/01/2003 | NULL  | 7.875 | 135791.17 | 27 | 333 | 333 | 11/2030 | 35840 | ⋯ | NA | NA | NA | NA | NA | NA | NULL | NA | NULL | NA |\n",
       "| 249995379351 | 02/01/2004 | NULL  | 7.875 | 134166.02 | 39 | 321 |   0 | 11/2030 | 35840 | ⋯ | NA | NA | NA | NA | NA | NA | N    | NA | NULL | NA |\n",
       "| 249995379351 | 03/01/2001 | NULL  | 7.875 |        NA |  4 | 356 | 356 | 11/2030 | 35840 | ⋯ | NA | NA | NA | NA | NA | NA | NULL | NA | NULL | NA |\n",
       "| 249995379351 | 03/01/2002 | NULL  | 7.875 | 136995.27 | 16 | 344 | 344 | 11/2030 | 35840 | ⋯ | NA | NA | NA | NA | NA | NA | NULL | NA | NULL | NA |\n",
       "| 249995379351 | 03/01/2003 | NULL  | 7.875 | 135677.35 | 28 | 332 | 332 | 11/2030 | 35840 | ⋯ | NA | NA | NA | NA | NA | NA | NULL | NA | NULL | NA |\n",
       "| 249995379351 | 04/01/2001 | NULL  | 7.875 |        NA |  5 | 355 | 355 | 11/2030 | 35840 | ⋯ | NA | NA | NA | NA | NA | NA | NULL | NA | NULL | NA |\n",
       "| 249995379351 | 04/01/2002 | NULL  | 7.875 | 136889.35 | 17 | 343 | 343 | 11/2030 | 35840 | ⋯ | NA | NA | NA | NA | NA | NA | NULL | NA | NULL | NA |\n",
       "| 249995379351 | 04/01/2003 | NULL  | 7.875 | 135562.78 | 29 | 331 | 331 | 11/2030 | 35840 | ⋯ | NA | NA | NA | NA | NA | NA | NULL | NA | NULL | NA |\n",
       "\n"
      ],
      "text/plain": [
       "        V1           V2         V3    V4    V5        V6 V7  V8  V9      V10  \n",
       "1       100007365142 01/01/2000 NULL  8           NA   0 360 359 01/2030 0    \n",
       "2       100007365142 01/01/2001 NULL  8     74319.00  12 348 347 01/2030 0    \n",
       "3       100007365142 01/01/2002 NULL  8     73635.48  24 336 335 01/2030 0    \n",
       "4       100007365142 01/01/2003 NULL  8     72795.41  36 324 322 01/2030 0    \n",
       "5       100007365142 02/01/2000 NULL  8           NA   1 359 358 01/2030 0    \n",
       "6       100007365142 02/01/2001 NULL  8     74264.14  13 347 346 01/2030 0    \n",
       "7       100007365142 02/01/2002 NULL  8     73576.06  25 335 334 01/2030 0    \n",
       "8       100007365142 02/01/2003 NULL  8     72680.39  37 323 320 01/2030 0    \n",
       "9       100007365142 03/01/2000 NULL  8           NA   2 358 357 01/2030 0    \n",
       "10      100007365142 03/01/2001 NULL  8     74208.91  14 346 345 01/2030 0    \n",
       "11      100007365142 03/01/2002 NULL  8     73516.25  26 334 333 01/2030 0    \n",
       "12      100007365142 03/01/2003 NULL  8     72564.61  38 322 318 01/2030 0    \n",
       "13      100007365142 04/01/2000 NULL  8           NA   3 357 356 01/2030 0    \n",
       "14      100007365142 04/01/2001 NULL  8     74153.32  15 345 344 01/2030 0    \n",
       "15      100007365142 04/01/2002 NULL  8     73456.04  27 333 332 01/2030 0    \n",
       "16      100007365142 04/01/2003 NULL  8     72564.61  39 321   0 01/2030 0    \n",
       "17      100007365142 05/01/2000 NULL  8           NA   4 356 355 01/2030 0    \n",
       "18      100007365142 05/01/2001 NULL  8     74153.32  16 344 344 01/2030 0    \n",
       "19      100007365142 05/01/2002 NULL  8     73395.43  28 332 331 01/2030 0    \n",
       "20      100007365142 06/01/2000 NULL  8           NA   5 355 355 01/2030 0    \n",
       "21      100007365142 06/01/2001 NULL  8     74097.36  17 343 343 01/2030 0    \n",
       "22      100007365142 06/01/2002 NULL  8     73395.43  29 331 331 01/2030 0    \n",
       "23      100007365142 07/01/2000 NULL  8     74693.00   6 354 354 01/2030 0    \n",
       "24      100007365142 07/01/2001 NULL  8     73984.31  18 342 341 01/2030 0    \n",
       "25      100007365142 07/01/2002 NULL  8     73334.41  30 330 330 01/2030 0    \n",
       "26      100007365142 08/01/2000 NULL  8     74587.91   7 353 352 01/2030 0    \n",
       "27      100007365142 08/01/2001 NULL  8     73926.71  19 341 340 01/2030 0    \n",
       "28      100007365142 08/01/2002 NULL  8     73272.99  31 329 329 01/2030 0    \n",
       "29      100007365142 09/01/2000 NULL  8     74534.84   8 352 351 01/2030 0    \n",
       "30      100007365142 09/01/2001 NULL  8     73869.23  20 340 339 01/2030 0    \n",
       "⋮       ⋮            ⋮          ⋮     ⋮     ⋮         ⋮  ⋮   ⋮   ⋮       ⋮    \n",
       "6031703 249989663681 11/01/2002 NULL  7.875  28884.88 24 156 156 11/2015 35620\n",
       "6031704 249989663681 11/01/2003 NULL  7.875  27555.60 36 144 144 11/2015 35620\n",
       "6031705 249989663681 12/01/2000 NULL  7.875        NA  1 179 179 11/2015 35620\n",
       "6031706 249989663681 12/01/2001 OTHER 7.875  29915.65 13 167 166 11/2015 35620\n",
       "6031707 249989663681 12/01/2002 NULL  7.875  28670.52 25 155 154 11/2015 35620\n",
       "6031708 249989663681 12/01/2003 NULL  7.875  27440.04 37 143 143 11/2015 35620\n",
       "6031709 249992604534 01/01/2001 NULL  7.750        NA  1 359 359 12/2030 33460\n",
       "6031710 249992604534 02/01/2001 NULL  7.750        NA  2 358 358 12/2030 33460\n",
       "6031711 249992604534 03/01/2001 NULL  7.750        NA  3 357 356 12/2030 33460\n",
       "6031712 249992604534 04/01/2001 NULL  7.750        NA  4 356 355 12/2030 33460\n",
       "6031713 249992604534 05/01/2001 NULL  7.750        NA  5 355 353 12/2030 33460\n",
       "6031714 249992604534 06/01/2001 NULL  7.750 175014.10  6 354 353 12/2030 33460\n",
       "6031715 249992604534 07/01/2001 NULL  7.750 174884.23  7 353 352 12/2030 33460\n",
       "6031716 249992604534 08/01/2001 NULL  7.750 174753.52  8 352 351 12/2030 33460\n",
       "6031717 249992604534 09/01/2001 NULL  7.750 174753.52  9 351   0 12/2030 33460\n",
       "6031718 249992604534 12/01/2000 NULL  7.750        NA  0 360 360 12/2030 33460\n",
       "6031719 249995379351 01/01/2001 NULL  7.875        NA  2 358 358 11/2030 35840\n",
       "6031720 249995379351 01/01/2002 NULL  7.875 137205.04 14 346 346 11/2030 35840\n",
       "6031721 249995379351 01/01/2003 NULL  7.875 135904.25 26 334 334 11/2030 35840\n",
       "6031722 249995379351 01/01/2004 NULL  7.875 134166.02 38 322 320 11/2030 35840\n",
       "6031723 249995379351 02/01/2001 NULL  7.875        NA  3 357 357 11/2030 35840\n",
       "6031724 249995379351 02/01/2002 NULL  7.875 137100.50 15 345 345 11/2030 35840\n",
       "6031725 249995379351 02/01/2003 NULL  7.875 135791.17 27 333 333 11/2030 35840\n",
       "6031726 249995379351 02/01/2004 NULL  7.875 134166.02 39 321   0 11/2030 35840\n",
       "6031727 249995379351 03/01/2001 NULL  7.875        NA  4 356 356 11/2030 35840\n",
       "6031728 249995379351 03/01/2002 NULL  7.875 136995.27 16 344 344 11/2030 35840\n",
       "6031729 249995379351 03/01/2003 NULL  7.875 135677.35 28 332 332 11/2030 35840\n",
       "6031730 249995379351 04/01/2001 NULL  7.875        NA  5 355 355 11/2030 35840\n",
       "6031731 249995379351 04/01/2002 NULL  7.875 136889.35 17 343 343 11/2030 35840\n",
       "6031732 249995379351 04/01/2003 NULL  7.875 135562.78 29 331 331 11/2030 35840\n",
       "        ⋯ V23 V24 V25 V26 V27 V28 V29  V30 V31 \n",
       "1       ⋯ NA  NA  NA  NA  NA  NA  NULL NA  NULL\n",
       "2       ⋯ NA  NA  NA  NA  NA  NA  NULL NA  NULL\n",
       "3       ⋯ NA  NA  NA  NA  NA  NA  NULL NA  NULL\n",
       "4       ⋯ NA  NA  NA  NA  NA  NA  NULL NA  NULL\n",
       "5       ⋯ NA  NA  NA  NA  NA  NA  NULL NA  NULL\n",
       "6       ⋯ NA  NA  NA  NA  NA  NA  NULL NA  NULL\n",
       "7       ⋯ NA  NA  NA  NA  NA  NA  NULL NA  NULL\n",
       "8       ⋯ NA  NA  NA  NA  NA  NA  NULL NA  NULL\n",
       "9       ⋯ NA  NA  NA  NA  NA  NA  NULL NA  NULL\n",
       "10      ⋯ NA  NA  NA  NA  NA  NA  NULL NA  NULL\n",
       "11      ⋯ NA  NA  NA  NA  NA  NA  NULL NA  NULL\n",
       "12      ⋯ NA  NA  NA  NA  NA  NA  NULL NA  NULL\n",
       "13      ⋯ NA  NA  NA  NA  NA  NA  NULL NA  NULL\n",
       "14      ⋯ NA  NA  NA  NA  NA  NA  NULL NA  NULL\n",
       "15      ⋯ NA  NA  NA  NA  NA  NA  NULL NA  NULL\n",
       "16      ⋯ NA  NA  NA  NA  NA  NA  N    NA  NULL\n",
       "17      ⋯ NA  NA  NA  NA  NA  NA  NULL NA  NULL\n",
       "18      ⋯ NA  NA  NA  NA  NA  NA  NULL NA  NULL\n",
       "19      ⋯ NA  NA  NA  NA  NA  NA  NULL NA  NULL\n",
       "20      ⋯ NA  NA  NA  NA  NA  NA  NULL NA  NULL\n",
       "21      ⋯ NA  NA  NA  NA  NA  NA  NULL NA  NULL\n",
       "22      ⋯ NA  NA  NA  NA  NA  NA  NULL NA  NULL\n",
       "23      ⋯ NA  NA  NA  NA  NA  NA  NULL NA  NULL\n",
       "24      ⋯ NA  NA  NA  NA  NA  NA  NULL NA  NULL\n",
       "25      ⋯ NA  NA  NA  NA  NA  NA  NULL NA  NULL\n",
       "26      ⋯ NA  NA  NA  NA  NA  NA  NULL NA  NULL\n",
       "27      ⋯ NA  NA  NA  NA  NA  NA  NULL NA  NULL\n",
       "28      ⋯ NA  NA  NA  NA  NA  NA  NULL NA  NULL\n",
       "29      ⋯ NA  NA  NA  NA  NA  NA  NULL NA  NULL\n",
       "30      ⋯ NA  NA  NA  NA  NA  NA  NULL NA  NULL\n",
       "⋮       ⋱ ⋮   ⋮   ⋮   ⋮   ⋮   ⋮   ⋮    ⋮   ⋮   \n",
       "6031703 ⋯ NA  NA  NA  NA  NA  NA  NULL NA  NULL\n",
       "6031704 ⋯ NA  NA  NA  NA  NA  NA  NULL NA  NULL\n",
       "6031705 ⋯ NA  NA  NA  NA  NA  NA  NULL NA  NULL\n",
       "6031706 ⋯ NA  NA  NA  NA  NA  NA  NULL NA  NULL\n",
       "6031707 ⋯ NA  NA  NA  NA  NA  NA  NULL NA  NULL\n",
       "6031708 ⋯ NA  NA  NA  NA  NA  NA  NULL NA  NULL\n",
       "6031709 ⋯ NA  NA  NA  NA  NA  NA  NULL NA  NULL\n",
       "6031710 ⋯ NA  NA  NA  NA  NA  NA  NULL NA  NULL\n",
       "6031711 ⋯ NA  NA  NA  NA  NA  NA  NULL NA  NULL\n",
       "6031712 ⋯ NA  NA  NA  NA  NA  NA  NULL NA  NULL\n",
       "6031713 ⋯ NA  NA  NA  NA  NA  NA  NULL NA  NULL\n",
       "6031714 ⋯ NA  NA  NA  NA  NA  NA  NULL NA  NULL\n",
       "6031715 ⋯ NA  NA  NA  NA  NA  NA  NULL NA  NULL\n",
       "6031716 ⋯ NA  NA  NA  NA  NA  NA  NULL NA  NULL\n",
       "6031717 ⋯ NA  NA  NA  NA  NA  NA  N    NA  NULL\n",
       "6031718 ⋯ NA  NA  NA  NA  NA  NA  NULL NA  NULL\n",
       "6031719 ⋯ NA  NA  NA  NA  NA  NA  NULL NA  NULL\n",
       "6031720 ⋯ NA  NA  NA  NA  NA  NA  NULL NA  NULL\n",
       "6031721 ⋯ NA  NA  NA  NA  NA  NA  NULL NA  NULL\n",
       "6031722 ⋯ NA  NA  NA  NA  NA  NA  NULL NA  NULL\n",
       "6031723 ⋯ NA  NA  NA  NA  NA  NA  NULL NA  NULL\n",
       "6031724 ⋯ NA  NA  NA  NA  NA  NA  NULL NA  NULL\n",
       "6031725 ⋯ NA  NA  NA  NA  NA  NA  NULL NA  NULL\n",
       "6031726 ⋯ NA  NA  NA  NA  NA  NA  N    NA  NULL\n",
       "6031727 ⋯ NA  NA  NA  NA  NA  NA  NULL NA  NULL\n",
       "6031728 ⋯ NA  NA  NA  NA  NA  NA  NULL NA  NULL\n",
       "6031729 ⋯ NA  NA  NA  NA  NA  NA  NULL NA  NULL\n",
       "6031730 ⋯ NA  NA  NA  NA  NA  NA  NULL NA  NULL\n",
       "6031731 ⋯ NA  NA  NA  NA  NA  NA  NULL NA  NULL\n",
       "6031732 ⋯ NA  NA  NA  NA  NA  NA  NULL NA  NULL\n",
       "        as.Date(paste0(\"01\", V1), \"%d%m/%Y\")\n",
       "1       <NA>                                \n",
       "2       <NA>                                \n",
       "3       <NA>                                \n",
       "4       <NA>                                \n",
       "5       <NA>                                \n",
       "6       <NA>                                \n",
       "7       <NA>                                \n",
       "8       <NA>                                \n",
       "9       <NA>                                \n",
       "10      <NA>                                \n",
       "11      <NA>                                \n",
       "12      <NA>                                \n",
       "13      <NA>                                \n",
       "14      <NA>                                \n",
       "15      <NA>                                \n",
       "16      <NA>                                \n",
       "17      <NA>                                \n",
       "18      <NA>                                \n",
       "19      <NA>                                \n",
       "20      <NA>                                \n",
       "21      <NA>                                \n",
       "22      <NA>                                \n",
       "23      <NA>                                \n",
       "24      <NA>                                \n",
       "25      <NA>                                \n",
       "26      <NA>                                \n",
       "27      <NA>                                \n",
       "28      <NA>                                \n",
       "29      <NA>                                \n",
       "30      <NA>                                \n",
       "⋮       ⋮                                   \n",
       "6031703 <NA>                                \n",
       "6031704 <NA>                                \n",
       "6031705 <NA>                                \n",
       "6031706 <NA>                                \n",
       "6031707 <NA>                                \n",
       "6031708 <NA>                                \n",
       "6031709 <NA>                                \n",
       "6031710 <NA>                                \n",
       "6031711 <NA>                                \n",
       "6031712 <NA>                                \n",
       "6031713 <NA>                                \n",
       "6031714 <NA>                                \n",
       "6031715 <NA>                                \n",
       "6031716 <NA>                                \n",
       "6031717 <NA>                                \n",
       "6031718 <NA>                                \n",
       "6031719 <NA>                                \n",
       "6031720 <NA>                                \n",
       "6031721 <NA>                                \n",
       "6031722 <NA>                                \n",
       "6031723 <NA>                                \n",
       "6031724 <NA>                                \n",
       "6031725 <NA>                                \n",
       "6031726 <NA>                                \n",
       "6031727 <NA>                                \n",
       "6031728 <NA>                                \n",
       "6031729 <NA>                                \n",
       "6031730 <NA>                                \n",
       "6031731 <NA>                                \n",
       "6031732 <NA>                                "
      ]
     },
     "metadata": {},
     "output_type": "display_data"
    }
   ],
   "source": [
    "a1"
   ]
  },
  {
   "cell_type": "code",
   "execution_count": null,
   "metadata": {},
   "outputs": [],
   "source": []
  }
 ],
 "metadata": {
  "kernelspec": {
   "display_name": "R",
   "language": "R",
   "name": "ir"
  },
  "language_info": {
   "codemirror_mode": "r",
   "file_extension": ".r",
   "mimetype": "text/x-r-source",
   "name": "R",
   "pygments_lexer": "r",
   "version": "3.6.2"
  }
 },
 "nbformat": 4,
 "nbformat_minor": 4
}
