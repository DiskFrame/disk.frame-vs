{
 "cells": [
  {
   "cell_type": "code",
   "execution_count": 1,
   "metadata": {},
   "outputs": [
    {
     "name": "stderr",
     "output_type": "stream",
     "text": [
      "Loading required package: dplyr\n",
      "\n",
      "Attaching package: ‘dplyr’\n",
      "\n",
      "The following objects are masked from ‘package:stats’:\n",
      "\n",
      "    filter, lag\n",
      "\n",
      "The following objects are masked from ‘package:base’:\n",
      "\n",
      "    intersect, setdiff, setequal, union\n",
      "\n",
      "Loading required package: purrr\n",
      "Registered S3 method overwritten by 'pryr':\n",
      "  method      from\n",
      "  print.bytes Rcpp\n",
      "\u001b[31m\n",
      "## Message from disk.frame:\n",
      "We have 1 workers to use with disk.frame.\n",
      "To change that, use setup_disk.frame(workers = n) or just setup_disk.frame() to use the defaults.\u001b[39m\u001b[32m\n",
      "\n",
      "\n",
      "It is recommended that you run the following immediately to set up disk.frame with multiple workers in order to parallelize your operations:\n",
      "\n",
      "\n",
      "```r\n",
      "# this will set up disk.frame with multiple workers\n",
      "setup_disk.frame()\n",
      "# this will allow unlimited amount of data to be passed from worker to worker\n",
      "options(future.globals.maxSize = Inf)\n",
      "```\n",
      "\n",
      "\n",
      "\u001b[39m\n",
      "\n",
      "Attaching package: ‘disk.frame’\n",
      "\n",
      "The following objects are masked from ‘package:purrr’:\n",
      "\n",
      "    imap, imap_dfr, map, map2\n",
      "\n",
      "The following objects are masked from ‘package:base’:\n",
      "\n",
      "    colnames, ncol, nrow\n",
      "\n"
     ]
    }
   ],
   "source": [
    "library(disk.frame)"
   ]
  },
  {
   "cell_type": "code",
   "execution_count": 2,
   "metadata": {},
   "outputs": [
    {
     "name": "stderr",
     "output_type": "stream",
     "text": [
      "The number of workers available for disk.frame is 6\n"
     ]
    }
   ],
   "source": [
    "setup_disk.frame()"
   ]
  },
  {
   "cell_type": "code",
   "execution_count": 3,
   "metadata": {},
   "outputs": [
    {
     "data": {
      "text/plain": [
       "   user  system elapsed \n",
       " 21.058   1.492   8.710 "
      ]
     },
     "metadata": {},
     "output_type": "display_data"
    }
   ],
   "source": [
    "system.time(a <- csv_to_disk.frame(\"fm-data/perf/Performance_2000Q1.txt\"))"
   ]
  },
  {
   "cell_type": "code",
   "execution_count": null,
   "metadata": {},
   "outputs": [],
   "source": []
  }
 ],
 "metadata": {
  "kernelspec": {
   "display_name": "R",
   "language": "R",
   "name": "ir"
  },
  "language_info": {
   "codemirror_mode": "r",
   "file_extension": ".r",
   "mimetype": "text/x-r-source",
   "name": "R",
   "pygments_lexer": "r",
   "version": "3.6.2"
  }
 },
 "nbformat": 4,
 "nbformat_minor": 4
}
