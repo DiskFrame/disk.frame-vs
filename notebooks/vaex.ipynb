{
 "cells": [
  {
   "cell_type": "code",
   "execution_count": 1,
   "metadata": {},
   "outputs": [
    {
     "name": "stderr",
     "output_type": "stream",
     "text": [
      "INFO:MainThread:matplotlib.font_manager:generated new fontManager\n"
     ]
    }
   ],
   "source": [
    "import vaex"
   ]
  },
  {
   "cell_type": "code",
   "execution_count": 2,
   "metadata": {},
   "outputs": [],
   "source": [
    "import pandas as pd"
   ]
  },
  {
   "cell_type": "code",
   "execution_count": null,
   "metadata": {},
   "outputs": [],
   "source": [
    "%time pd.read_csv(\"../fm-data/perf/Performance_2000Q1.txt\", sep=\"|\")"
   ]
  },
  {
   "cell_type": "code",
   "execution_count": null,
   "metadata": {},
   "outputs": [],
   "source": [
    "%%time\n",
    "a = vaex.from_csv(\"../fm-data/perf/Performance_2000Q1.txt\", sep=\"|\")"
   ]
  },
  {
   "cell_type": "code",
   "execution_count": 17,
   "metadata": {},
   "outputs": [
    {
     "data": {
      "text/html": [
       "<table>\n",
       "<thead>\n",
       "<tr><th>#                                    </th><th>_00007365142  </th><th>_1_01_2000  </th><th>NULL  </th><th>Unnamed__4  </th><th>_60_0  </th><th>_59_0  </th><th>_1_2030  </th><th>_  </th><th>N  </th><th>NULL_1  </th><th>Unnamed__13  </th><th>Unnamed__14  </th><th>Unnamed__15  </th><th>Unnamed__16  </th><th>Unnamed__17  </th><th>Unnamed__18  </th><th>Unnamed__19  </th><th>Unnamed__20  </th><th>Unnamed__21  </th><th>Unnamed__22  </th><th>Unnamed__23  </th><th>Unnamed__24  </th><th>Unnamed__25  </th><th>Unnamed__26  </th><th>Unnamed__27  </th><th>NULL_2  </th><th>Unnamed__29  </th><th>NULL_3  </th><th>index  </th></tr>\n",
       "</thead>\n",
       "<tbody>\n",
       "<tr><td><i style='opacity: 0.6'>0</i>        </td><td>100007365142  </td><td>01/01/2001  </td><td>nan   </td><td>74319.0     </td><td>348.0  </td><td>347.0  </td><td>01/2030  </td><td>0  </td><td>N  </td><td>nan     </td><td>nan          </td><td>nan          </td><td>nan          </td><td>nan          </td><td>nan          </td><td>nan          </td><td>nan          </td><td>nan          </td><td>nan          </td><td>nan          </td><td>nan          </td><td>nan          </td><td>nan          </td><td>nan          </td><td>nan          </td><td>nan     </td><td>nan          </td><td>nan     </td><td>0      </td></tr>\n",
       "<tr><td><i style='opacity: 0.6'>1</i>        </td><td>100007365142  </td><td>01/01/2002  </td><td>nan   </td><td>73635.48    </td><td>336.0  </td><td>335.0  </td><td>01/2030  </td><td>0  </td><td>N  </td><td>nan     </td><td>nan          </td><td>nan          </td><td>nan          </td><td>nan          </td><td>nan          </td><td>nan          </td><td>nan          </td><td>nan          </td><td>nan          </td><td>nan          </td><td>nan          </td><td>nan          </td><td>nan          </td><td>nan          </td><td>nan          </td><td>nan     </td><td>nan          </td><td>nan     </td><td>1      </td></tr>\n",
       "<tr><td><i style='opacity: 0.6'>2</i>        </td><td>100007365142  </td><td>01/01/2003  </td><td>nan   </td><td>72795.41    </td><td>324.0  </td><td>322.0  </td><td>01/2030  </td><td>0  </td><td>N  </td><td>nan     </td><td>nan          </td><td>nan          </td><td>nan          </td><td>nan          </td><td>nan          </td><td>nan          </td><td>nan          </td><td>nan          </td><td>nan          </td><td>nan          </td><td>nan          </td><td>nan          </td><td>nan          </td><td>nan          </td><td>nan          </td><td>nan     </td><td>nan          </td><td>nan     </td><td>2      </td></tr>\n",
       "<tr><td><i style='opacity: 0.6'>3</i>        </td><td>100007365142  </td><td>02/01/2000  </td><td>nan   </td><td>nan         </td><td>359.0  </td><td>358.0  </td><td>01/2030  </td><td>0  </td><td>N  </td><td>nan     </td><td>nan          </td><td>nan          </td><td>nan          </td><td>nan          </td><td>nan          </td><td>nan          </td><td>nan          </td><td>nan          </td><td>nan          </td><td>nan          </td><td>nan          </td><td>nan          </td><td>nan          </td><td>nan          </td><td>nan          </td><td>nan     </td><td>nan          </td><td>nan     </td><td>3      </td></tr>\n",
       "<tr><td><i style='opacity: 0.6'>4</i>        </td><td>100007365142  </td><td>02/01/2001  </td><td>nan   </td><td>74264.14    </td><td>347.0  </td><td>346.0  </td><td>01/2030  </td><td>0  </td><td>N  </td><td>nan     </td><td>nan          </td><td>nan          </td><td>nan          </td><td>nan          </td><td>nan          </td><td>nan          </td><td>nan          </td><td>nan          </td><td>nan          </td><td>nan          </td><td>nan          </td><td>nan          </td><td>nan          </td><td>nan          </td><td>nan          </td><td>nan     </td><td>nan          </td><td>nan     </td><td>4      </td></tr>\n",
       "<tr><td>...                                  </td><td>...           </td><td>...         </td><td>...   </td><td>...         </td><td>...    </td><td>...    </td><td>...      </td><td>...</td><td>...</td><td>...     </td><td>...          </td><td>...          </td><td>...          </td><td>...          </td><td>...          </td><td>...          </td><td>...          </td><td>...          </td><td>...          </td><td>...          </td><td>...          </td><td>...          </td><td>...          </td><td>...          </td><td>...          </td><td>...     </td><td>...          </td><td>...     </td><td>...    </td></tr>\n",
       "<tr><td><i style='opacity: 0.6'>9,094,673</i></td><td>999999117079  </td><td>12/01/2008  </td><td>nan   </td><td>33119.88    </td><td>75.0   </td><td>61.0   </td><td>03/2015  </td><td>0  </td><td>N  </td><td>nan     </td><td>nan          </td><td>nan          </td><td>nan          </td><td>nan          </td><td>nan          </td><td>nan          </td><td>nan          </td><td>nan          </td><td>nan          </td><td>nan          </td><td>nan          </td><td>nan          </td><td>nan          </td><td>nan          </td><td>nan          </td><td>nan     </td><td>nan          </td><td>N       </td><td>9094673</td></tr>\n",
       "<tr><td><i style='opacity: 0.6'>9,094,674</i></td><td>999999117079  </td><td>12/01/2009  </td><td>nan   </td><td>27209.33    </td><td>63.0   </td><td>49.0   </td><td>03/2015  </td><td>0  </td><td>N  </td><td>nan     </td><td>nan          </td><td>nan          </td><td>nan          </td><td>nan          </td><td>nan          </td><td>nan          </td><td>nan          </td><td>nan          </td><td>nan          </td><td>nan          </td><td>nan          </td><td>nan          </td><td>nan          </td><td>nan          </td><td>nan          </td><td>nan     </td><td>nan          </td><td>N       </td><td>9094674</td></tr>\n",
       "<tr><td><i style='opacity: 0.6'>9,094,675</i></td><td>999999117079  </td><td>12/01/2010  </td><td>nan   </td><td>21200.81    </td><td>51.0   </td><td>37.0   </td><td>03/2015  </td><td>0  </td><td>N  </td><td>nan     </td><td>nan          </td><td>nan          </td><td>nan          </td><td>nan          </td><td>nan          </td><td>nan          </td><td>nan          </td><td>nan          </td><td>nan          </td><td>nan          </td><td>nan          </td><td>nan          </td><td>nan          </td><td>nan          </td><td>nan          </td><td>nan     </td><td>nan          </td><td>N       </td><td>9094675</td></tr>\n",
       "<tr><td><i style='opacity: 0.6'>9,094,676</i></td><td>999999117079  </td><td>12/01/2011  </td><td>nan   </td><td>14709.73    </td><td>39.0   </td><td>25.0   </td><td>03/2015  </td><td>0  </td><td>N  </td><td>nan     </td><td>nan          </td><td>nan          </td><td>nan          </td><td>nan          </td><td>nan          </td><td>nan          </td><td>nan          </td><td>nan          </td><td>nan          </td><td>nan          </td><td>nan          </td><td>nan          </td><td>nan          </td><td>nan          </td><td>nan          </td><td>nan     </td><td>nan          </td><td>N       </td><td>9094676</td></tr>\n",
       "<tr><td><i style='opacity: 0.6'>9,094,677</i></td><td>999999117079  </td><td>12/01/2012  </td><td>nan   </td><td>6884.45     </td><td>27.0   </td><td>11.0   </td><td>03/2015  </td><td>0  </td><td>N  </td><td>nan     </td><td>nan          </td><td>nan          </td><td>nan          </td><td>nan          </td><td>nan          </td><td>nan          </td><td>nan          </td><td>nan          </td><td>nan          </td><td>nan          </td><td>nan          </td><td>nan          </td><td>nan          </td><td>nan          </td><td>nan          </td><td>nan     </td><td>nan          </td><td>N       </td><td>9094677</td></tr>\n",
       "</tbody>\n",
       "</table>"
      ],
      "text/plain": [
       "#          _00007365142    _1_01_2000    NULL    Unnamed__4    _60_0    _59_0    _1_2030    _    N    NULL_1    Unnamed__13    Unnamed__14    Unnamed__15    Unnamed__16    Unnamed__17    Unnamed__18    Unnamed__19    Unnamed__20    Unnamed__21    Unnamed__22    Unnamed__23    Unnamed__24    Unnamed__25    Unnamed__26    Unnamed__27    NULL_2    Unnamed__29    NULL_3    index\n",
       "0          100007365142    01/01/2001    nan     74319.0       348.0    347.0    01/2030    0    N    nan       nan            nan            nan            nan            nan            nan            nan            nan            nan            nan            nan            nan            nan            nan            nan            nan       nan            nan       0\n",
       "1          100007365142    01/01/2002    nan     73635.48      336.0    335.0    01/2030    0    N    nan       nan            nan            nan            nan            nan            nan            nan            nan            nan            nan            nan            nan            nan            nan            nan            nan       nan            nan       1\n",
       "2          100007365142    01/01/2003    nan     72795.41      324.0    322.0    01/2030    0    N    nan       nan            nan            nan            nan            nan            nan            nan            nan            nan            nan            nan            nan            nan            nan            nan            nan       nan            nan       2\n",
       "3          100007365142    02/01/2000    nan     nan           359.0    358.0    01/2030    0    N    nan       nan            nan            nan            nan            nan            nan            nan            nan            nan            nan            nan            nan            nan            nan            nan            nan       nan            nan       3\n",
       "4          100007365142    02/01/2001    nan     74264.14      347.0    346.0    01/2030    0    N    nan       nan            nan            nan            nan            nan            nan            nan            nan            nan            nan            nan            nan            nan            nan            nan            nan       nan            nan       4\n",
       "...        ...             ...           ...     ...           ...      ...      ...        ...  ...  ...       ...            ...            ...            ...            ...            ...            ...            ...            ...            ...            ...            ...            ...            ...            ...            ...       ...            ...       ...\n",
       "9,094,673  999999117079    12/01/2008    nan     33119.88      75.0     61.0     03/2015    0    N    nan       nan            nan            nan            nan            nan            nan            nan            nan            nan            nan            nan            nan            nan            nan            nan            nan       nan            N         9094673\n",
       "9,094,674  999999117079    12/01/2009    nan     27209.33      63.0     49.0     03/2015    0    N    nan       nan            nan            nan            nan            nan            nan            nan            nan            nan            nan            nan            nan            nan            nan            nan            nan       nan            N         9094674\n",
       "9,094,675  999999117079    12/01/2010    nan     21200.81      51.0     37.0     03/2015    0    N    nan       nan            nan            nan            nan            nan            nan            nan            nan            nan            nan            nan            nan            nan            nan            nan            nan       nan            N         9094675\n",
       "9,094,676  999999117079    12/01/2011    nan     14709.73      39.0     25.0     03/2015    0    N    nan       nan            nan            nan            nan            nan            nan            nan            nan            nan            nan            nan            nan            nan            nan            nan            nan       nan            N         9094676\n",
       "9,094,677  999999117079    12/01/2012    nan     6884.45       27.0     11.0     03/2015    0    N    nan       nan            nan            nan            nan            nan            nan            nan            nan            nan            nan            nan            nan            nan            nan            nan            nan       nan            N         9094677"
      ]
     },
     "execution_count": 17,
     "metadata": {},
     "output_type": "execute_result"
    }
   ],
   "source": [
    "a"
   ]
  },
  {
   "cell_type": "code",
   "execution_count": null,
   "metadata": {},
   "outputs": [],
   "source": []
  }
 ],
 "metadata": {
  "kernelspec": {
   "display_name": "Python 3",
   "language": "python",
   "name": "python3"
  },
  "language_info": {
   "codemirror_mode": {
    "name": "ipython",
    "version": 3
   },
   "file_extension": ".py",
   "mimetype": "text/x-python",
   "name": "python",
   "nbconvert_exporter": "python",
   "pygments_lexer": "ipython3",
   "version": "3.7.6"
  }
 },
 "nbformat": 4,
 "nbformat_minor": 4
}
